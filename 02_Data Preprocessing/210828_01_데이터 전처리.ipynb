{
 "cells": [
  {
   "cell_type": "markdown",
   "id": "580286f2",
   "metadata": {},
   "source": [
    "## 데이터 전처리\n",
    "\n",
    "#### 정의\n",
    "- 데이터 분석 성능 향상을 위해 데이터 수정하거나 형태를 변형하는 작업\n",
    "- DATA PREPROCESSING"
   ]
  },
  {
   "cell_type": "markdown",
   "id": "125911df",
   "metadata": {},
   "source": [
    "### 데이터 전처리 종류 - 아래 4가지는 전처리의 필수로 생각해야 함\n",
    "\n",
    "- 데이터 크리닝 - 결측치, 틀린 값 처리\n",
    "- 스케일링 : 여러 변수 (피처) 값의 범위를 동등한 조건으로 맞추는 것\n",
    "- 이상치 처리 - 이상치 탐지 및 제거\n",
    "- 데이터 변환 : 문자를 인산형 수치로 변환(카테고리 인코딩), 로그변환(데이터의 분포가 치우쳤을 때, 금액과 관계되는 특성)"
   ]
  },
  {
   "cell_type": "markdown",
   "id": "d111e959",
   "metadata": {},
   "source": [
    "## 데이터 클리닝\n",
    "\n",
    "###  결측치 처리\n",
    "- 값이 비어 있는 것을 처리하는 것 (파이썬에서는 빈 값이 nan으로 표시된다: not a number)\n",
    "- 결측치를 처리하는 방법은 크게 세 가지가 있다\n",
    " - 결측치가 포함된 샘플(행)을 버린다\n",
    " - 결측치를 적절한 값으로 대체한다\n",
    " - 결측치 처리를 다음 분석 단계로 넘긴다. 즉, 결측치를 그대로 둔다\n",
    " \n",
    "###  틀린값 처리\n",
    "- 틀린값을 처리하는 방법도 결측치를 처리하는 방법과 같이 세가지이다\n",
    " - 틀린 값이 포함된 샘플(행)을 버린다\n",
    " - 틀린 값을 적절한 값으로 대체한다\n",
    " - 틀린값 처리를 다음 분석 단계로 넘긴다. 즉, 틀린값을 그대로 둔다\n"
   ]
  },
  {
   "cell_type": "code",
   "execution_count": 1,
   "id": "8797291b",
   "metadata": {},
   "outputs": [],
   "source": [
    "import pandas as pd\n",
    "import numpy as np\n",
    "import seaborn as sns\n",
    "\n",
    "#그래프 패키지 \n",
    "import matplotlib.pyplot as plt \n",
    "%matplotlib inline \n",
    "# 한글 문제 해결\n",
    "import platform\n",
    "\n",
    "from matplotlib import font_manager, rc\n",
    "plt.rcParams['axes.unicode_minus'] = False\n",
    "\n",
    "if platform.system() == 'Darwin':  # 맥OS \n",
    "    rc('font', family='AppleGothic')\n",
    "elif platform.system() == 'Windows':  # 윈도우\n",
    "    path = \"c:/Windows/Fonts/malgun.ttf\"\n",
    "    font_name = font_manager.FontProperties(fname=path).get_name()\n",
    "    rc('font', family=font_name)\n",
    "else:\n",
    "    print('Unknown system...  sorry~~~')# 한글 문제 해결\n",
    "import platform\n",
    "\n",
    "from matplotlib import font_manager, rc\n",
    "plt.rcParams['axes.unicode_minus'] = False\n",
    "\n",
    "if platform.system() == 'Darwin':  # 맥OS \n",
    "    rc('font', family='AppleGothic')\n",
    "elif platform.system() == 'Windows':  # 윈도우\n",
    "    path = \"c:/Windows/Fonts/malgun.ttf\"\n",
    "    font_name = font_manager.FontProperties(fname=path).get_name()\n",
    "    rc('font', family=font_name)\n",
    "else:\n",
    "    print('Unknown system...  sorry~~~')\n",
    "\n",
    "\n",
    "# 동시 출력\n",
    "from IPython.core.interactiveshell import InteractiveShell\n",
    "InteractiveShell.ast_node_interactivity=\"all\""
   ]
  },
  {
   "cell_type": "code",
   "execution_count": 2,
   "id": "c3a8ca40",
   "metadata": {},
   "outputs": [],
   "source": [
    "import numpy as np\n",
    "import pandas as pd\n",
    "import matplotlib.pyplot as plt\n",
    "%matplotlib inline\n",
    "%config InlineBackend.figure_format = 'retina'"
   ]
  },
  {
   "cell_type": "code",
   "execution_count": 3,
   "id": "d44e1569",
   "metadata": {},
   "outputs": [],
   "source": [
    "# matplotlib를 이용하여 다양한 시각화 함수를 제공하는 라이브러리 seaborn\n",
    "import seaborn as sns"
   ]
  },
  {
   "cell_type": "markdown",
   "id": "daeb212e",
   "metadata": {},
   "source": [
    "### 난수 생성 (참고)"
   ]
  },
  {
   "cell_type": "code",
   "execution_count": 4,
   "id": "00d02c21",
   "metadata": {},
   "outputs": [
    {
     "data": {
      "text/plain": [
       "3"
      ]
     },
     "execution_count": 4,
     "metadata": {},
     "output_type": "execute_result"
    },
    {
     "data": {
      "text/plain": [
       "6"
      ]
     },
     "execution_count": 4,
     "metadata": {},
     "output_type": "execute_result"
    },
    {
     "data": {
      "text/plain": [
       "array([9, 7, 7, 8, 8])"
      ]
     },
     "execution_count": 4,
     "metadata": {},
     "output_type": "execute_result"
    }
   ],
   "source": [
    "np.random.randint(10) # 0 부터 9까지 램덤 값\n",
    "np.random.randint(5, 10) # 5 부터 9까지 램덤 값\n",
    "np.random.randint(7, 10, size=5) # 7 부터 9까지 램덤 값 5개"
   ]
  },
  {
   "cell_type": "code",
   "execution_count": 5,
   "id": "e03c0946",
   "metadata": {},
   "outputs": [
    {
     "data": {
      "text/plain": [
       "array([-0.33420735,  0.21218244,  0.11885825,  2.07965436,  0.08901938])"
      ]
     },
     "execution_count": 5,
     "metadata": {},
     "output_type": "execute_result"
    },
    {
     "data": {
      "text/plain": [
       "array([-0.38, -0.13,  0.14, -1.23, -0.75])"
      ]
     },
     "execution_count": 5,
     "metadata": {},
     "output_type": "execute_result"
    },
    {
     "data": {
      "text/plain": [
       "array([[ 0.56, -1.77],\n",
       "       [ 0.98,  2.42],\n",
       "       [-0.76, -1.25]])"
      ]
     },
     "execution_count": 5,
     "metadata": {},
     "output_type": "execute_result"
    }
   ],
   "source": [
    "np.random.randn(5) # 0부터 1까지 난수 5개\n",
    "np.random.randn(5).round(2) # 0부터 1까지 난수 5개 소수 둘째자리\n",
    "np.random.randn(3,2).round(2)"
   ]
  },
  {
   "cell_type": "markdown",
   "id": "c3d686fb",
   "metadata": {},
   "source": [
    "### 실습 데이터\n",
    "- 키와 몸무게 데이터 생성\n",
    "- 평균 170CM, 65KG, 표준편차 4CM, 5KG"
   ]
  },
  {
   "cell_type": "code",
   "execution_count": 46,
   "id": "c5ea2855",
   "metadata": {},
   "outputs": [
    {
     "data": {
      "text/plain": [
       "array([-5.48, -0.16, -3.84, -4.76, -7.92, -0.08,  1.28,  0.2 ,  1.28,\n",
       "       -0.56])"
      ]
     },
     "execution_count": 46,
     "metadata": {},
     "output_type": "execute_result"
    }
   ],
   "source": [
    "4*np.random.randn(10).round(2)"
   ]
  },
  {
   "cell_type": "code",
   "execution_count": 47,
   "id": "d8b30ebc",
   "metadata": {},
   "outputs": [
    {
     "data": {
      "text/html": [
       "<div>\n",
       "<style scoped>\n",
       "    .dataframe tbody tr th:only-of-type {\n",
       "        vertical-align: middle;\n",
       "    }\n",
       "\n",
       "    .dataframe tbody tr th {\n",
       "        vertical-align: top;\n",
       "    }\n",
       "\n",
       "    .dataframe thead th {\n",
       "        text-align: right;\n",
       "    }\n",
       "</style>\n",
       "<table border=\"1\" class=\"dataframe\">\n",
       "  <thead>\n",
       "    <tr style=\"text-align: right;\">\n",
       "      <th></th>\n",
       "      <th>height</th>\n",
       "      <th>weight</th>\n",
       "    </tr>\n",
       "  </thead>\n",
       "  <tbody>\n",
       "    <tr>\n",
       "      <th>0</th>\n",
       "      <td>167.84</td>\n",
       "      <td>59.72</td>\n",
       "    </tr>\n",
       "    <tr>\n",
       "      <th>1</th>\n",
       "      <td>174.92</td>\n",
       "      <td>66.16</td>\n",
       "    </tr>\n",
       "    <tr>\n",
       "      <th>2</th>\n",
       "      <td>170.36</td>\n",
       "      <td>65.76</td>\n",
       "    </tr>\n",
       "    <tr>\n",
       "      <th>3</th>\n",
       "      <td>174.20</td>\n",
       "      <td>64.36</td>\n",
       "    </tr>\n",
       "    <tr>\n",
       "      <th>4</th>\n",
       "      <td>172.88</td>\n",
       "      <td>55.20</td>\n",
       "    </tr>\n",
       "  </tbody>\n",
       "</table>\n",
       "</div>"
      ],
      "text/plain": [
       "   height  weight\n",
       "0  167.84   59.72\n",
       "1  174.92   66.16\n",
       "2  170.36   65.76\n",
       "3  174.20   64.36\n",
       "4  172.88   55.20"
      ]
     },
     "execution_count": 47,
     "metadata": {},
     "output_type": "execute_result"
    }
   ],
   "source": [
    "n_samples = 1000\n",
    "height = 4*np.random.randn(n_samples).round(2) + 170\n",
    "weight = 4*np.random.randn(n_samples).round(2) + 65\n",
    "\n",
    "df_raw = pd.DataFrame({'height' : height, \n",
    "                       'weight' : weight})\n",
    "\n",
    "df_raw[:5]"
   ]
  },
  {
   "cell_type": "code",
   "execution_count": 48,
   "id": "f064abfe",
   "metadata": {},
   "outputs": [],
   "source": [
    "# 원본보관\n",
    "df = df_raw.copy()"
   ]
  },
  {
   "cell_type": "code",
   "execution_count": 49,
   "id": "0fda268c",
   "metadata": {},
   "outputs": [
    {
     "data": {
      "text/plain": [
       "<AxesSubplot:ylabel='Count'>"
      ]
     },
     "execution_count": 49,
     "metadata": {},
     "output_type": "execute_result"
    },
    {
     "data": {
      "text/plain": [
       "<seaborn.axisgrid.FacetGrid at 0x231da609820>"
      ]
     },
     "execution_count": 49,
     "metadata": {},
     "output_type": "execute_result"
    },
    {
     "data": {
      "image/png": "[encoded data removed]",
      "text/plain": [
       "<Figure size 432x288 with 1 Axes>"
      ]
     },
     "metadata": {
      "image/png": {
       "height": 249,
       "width": 387
      },
      "needs_background": "light"
     },
     "output_type": "display_data"
    },
    {
     "data": {
      "image/png": "[encoded data removed]",
      "text/plain": [
       "<Figure size 360x360 with 1 Axes>"
      ]
     },
     "metadata": {
      "image/png": {
       "height": 354,
       "width": 354
      },
      "needs_background": "light"
     },
     "output_type": "display_data"
    }
   ],
   "source": [
    "# 데이터 분포 확인 (확률 분포 근사 그래프 그리기)\n",
    "sns.histplot(df.height.values)\n",
    "sns.displot(df.height.values)"
   ]
  },
  {
   "cell_type": "code",
   "execution_count": 54,
   "id": "4b8b2c80",
   "metadata": {},
   "outputs": [
    {
     "name": "stderr",
     "output_type": "stream",
     "text": [
      "C:\\ProgramData\\Anaconda3\\lib\\site-packages\\seaborn\\distributions.py:2557: FutureWarning: `distplot` is a deprecated function and will be removed in a future version. Please adapt your code to use either `displot` (a figure-level function with similar flexibility) or `histplot` (an axes-level function for histograms).\n",
      "  warnings.warn(msg, FutureWarning)\n"
     ]
    },
    {
     "data": {
      "text/plain": [
       "<AxesSubplot:ylabel='Density'>"
      ]
     },
     "execution_count": 54,
     "metadata": {},
     "output_type": "execute_result"
    },
    {
     "data": {
      "image/png": "[encoded data removed]",
      "text/plain": [
       "<Figure size 432x288 with 1 Axes>"
      ]
     },
     "metadata": {
      "image/png": {
       "height": 249,
       "width": 389
      },
      "needs_background": "light"
     },
     "output_type": "display_data"
    }
   ],
   "source": [
    "sns.distplot(df.height.values)"
   ]
  },
  {
   "cell_type": "code",
   "execution_count": 55,
   "id": "602f289d",
   "metadata": {},
   "outputs": [
    {
     "data": {
      "text/plain": [
       "<AxesSubplot:ylabel='Count'>"
      ]
     },
     "execution_count": 55,
     "metadata": {},
     "output_type": "execute_result"
    },
    {
     "data": {
      "image/png": "[encoded data removed]",
      "text/plain": [
       "<Figure size 432x288 with 1 Axes>"
      ]
     },
     "metadata": {
      "image/png": {
       "height": 249,
       "width": 387
      },
      "needs_background": "light"
     },
     "output_type": "display_data"
    }
   ],
   "source": [
    "sns.histplot(df.height.values, kde=True)"
   ]
  },
  {
   "cell_type": "markdown",
   "id": "85b3b03e",
   "metadata": {},
   "source": [
    "### 결측치 처리 실슴\n",
    "- 결측치 확인 : np.isnull() 사용\n",
    "- 결측치 치환 : np.fillna() 사용"
   ]
  },
  {
   "cell_type": "code",
   "execution_count": 56,
   "id": "728a73c1",
   "metadata": {},
   "outputs": [
    {
     "data": {
      "text/html": [
       "<div>\n",
       "<style scoped>\n",
       "    .dataframe tbody tr th:only-of-type {\n",
       "        vertical-align: middle;\n",
       "    }\n",
       "\n",
       "    .dataframe tbody tr th {\n",
       "        vertical-align: top;\n",
       "    }\n",
       "\n",
       "    .dataframe thead th {\n",
       "        text-align: right;\n",
       "    }\n",
       "</style>\n",
       "<table border=\"1\" class=\"dataframe\">\n",
       "  <thead>\n",
       "    <tr style=\"text-align: right;\">\n",
       "      <th></th>\n",
       "      <th>height</th>\n",
       "      <th>weight</th>\n",
       "    </tr>\n",
       "  </thead>\n",
       "  <tbody>\n",
       "    <tr>\n",
       "      <th>0</th>\n",
       "      <td>167.84</td>\n",
       "      <td>59.72</td>\n",
       "    </tr>\n",
       "    <tr>\n",
       "      <th>1</th>\n",
       "      <td>174.92</td>\n",
       "      <td>66.16</td>\n",
       "    </tr>\n",
       "    <tr>\n",
       "      <th>2</th>\n",
       "      <td>170.36</td>\n",
       "      <td>NaN</td>\n",
       "    </tr>\n",
       "    <tr>\n",
       "      <th>3</th>\n",
       "      <td>174.20</td>\n",
       "      <td>64.36</td>\n",
       "    </tr>\n",
       "    <tr>\n",
       "      <th>4</th>\n",
       "      <td>172.88</td>\n",
       "      <td>55.20</td>\n",
       "    </tr>\n",
       "  </tbody>\n",
       "</table>\n",
       "</div>"
      ],
      "text/plain": [
       "   height  weight\n",
       "0  167.84   59.72\n",
       "1  174.92   66.16\n",
       "2  170.36     NaN\n",
       "3  174.20   64.36\n",
       "4  172.88   55.20"
      ]
     },
     "execution_count": 56,
     "metadata": {},
     "output_type": "execute_result"
    }
   ],
   "source": [
    "# 임의 값 하나를 결측치로 변경\n",
    "df['weight'][2] = np.nan\n",
    "df[:5]"
   ]
  },
  {
   "cell_type": "code",
   "execution_count": 57,
   "id": "4de944ed",
   "metadata": {},
   "outputs": [
    {
     "data": {
      "text/plain": [
       "height    0\n",
       "weight    1\n",
       "dtype: int64"
      ]
     },
     "execution_count": 57,
     "metadata": {},
     "output_type": "execute_result"
    }
   ],
   "source": [
    "# 컬럼별 결측치 갯수 보기\n",
    "df.isnull().sum()"
   ]
  },
  {
   "cell_type": "code",
   "execution_count": 58,
   "id": "d3d50270",
   "metadata": {},
   "outputs": [
    {
     "data": {
      "text/plain": [
       "(999, 2)"
      ]
     },
     "execution_count": 58,
     "metadata": {},
     "output_type": "execute_result"
    },
    {
     "data": {
      "text/html": [
       "<div>\n",
       "<style scoped>\n",
       "    .dataframe tbody tr th:only-of-type {\n",
       "        vertical-align: middle;\n",
       "    }\n",
       "\n",
       "    .dataframe tbody tr th {\n",
       "        vertical-align: top;\n",
       "    }\n",
       "\n",
       "    .dataframe thead th {\n",
       "        text-align: right;\n",
       "    }\n",
       "</style>\n",
       "<table border=\"1\" class=\"dataframe\">\n",
       "  <thead>\n",
       "    <tr style=\"text-align: right;\">\n",
       "      <th></th>\n",
       "      <th>height</th>\n",
       "      <th>weight</th>\n",
       "    </tr>\n",
       "  </thead>\n",
       "  <tbody>\n",
       "    <tr>\n",
       "      <th>0</th>\n",
       "      <td>167.84</td>\n",
       "      <td>59.72</td>\n",
       "    </tr>\n",
       "    <tr>\n",
       "      <th>1</th>\n",
       "      <td>174.92</td>\n",
       "      <td>66.16</td>\n",
       "    </tr>\n",
       "    <tr>\n",
       "      <th>3</th>\n",
       "      <td>174.20</td>\n",
       "      <td>64.36</td>\n",
       "    </tr>\n",
       "    <tr>\n",
       "      <th>4</th>\n",
       "      <td>172.88</td>\n",
       "      <td>55.20</td>\n",
       "    </tr>\n",
       "    <tr>\n",
       "      <th>5</th>\n",
       "      <td>170.40</td>\n",
       "      <td>63.72</td>\n",
       "    </tr>\n",
       "  </tbody>\n",
       "</table>\n",
       "</div>"
      ],
      "text/plain": [
       "   height  weight\n",
       "0  167.84   59.72\n",
       "1  174.92   66.16\n",
       "3  174.20   64.36\n",
       "4  172.88   55.20\n",
       "5  170.40   63.72"
      ]
     },
     "execution_count": 58,
     "metadata": {},
     "output_type": "execute_result"
    }
   ],
   "source": [
    "# 결측치가 있는 행(샘플, 레코드) 삭제하기 (df.dropna())\n",
    "# 데이터가 충분해야 함 : 1000개 중 1개의 레코드에 결측치가 있으므로 삭제 가능\n",
    "df2 = df.dropna()\n",
    "df2.shape\n",
    "df2[:5]"
   ]
  },
  {
   "cell_type": "code",
   "execution_count": 59,
   "id": "d76488b7",
   "metadata": {},
   "outputs": [
    {
     "data": {
      "text/html": [
       "<div>\n",
       "<style scoped>\n",
       "    .dataframe tbody tr th:only-of-type {\n",
       "        vertical-align: middle;\n",
       "    }\n",
       "\n",
       "    .dataframe tbody tr th {\n",
       "        vertical-align: top;\n",
       "    }\n",
       "\n",
       "    .dataframe thead th {\n",
       "        text-align: right;\n",
       "    }\n",
       "</style>\n",
       "<table border=\"1\" class=\"dataframe\">\n",
       "  <thead>\n",
       "    <tr style=\"text-align: right;\">\n",
       "      <th></th>\n",
       "      <th>height</th>\n",
       "      <th>weight</th>\n",
       "    </tr>\n",
       "  </thead>\n",
       "  <tbody>\n",
       "    <tr>\n",
       "      <th>0</th>\n",
       "      <td>167.84</td>\n",
       "      <td>59.720000</td>\n",
       "    </tr>\n",
       "    <tr>\n",
       "      <th>1</th>\n",
       "      <td>174.92</td>\n",
       "      <td>66.160000</td>\n",
       "    </tr>\n",
       "    <tr>\n",
       "      <th>2</th>\n",
       "      <td>170.36</td>\n",
       "      <td>64.943223</td>\n",
       "    </tr>\n",
       "    <tr>\n",
       "      <th>3</th>\n",
       "      <td>174.20</td>\n",
       "      <td>64.360000</td>\n",
       "    </tr>\n",
       "    <tr>\n",
       "      <th>4</th>\n",
       "      <td>172.88</td>\n",
       "      <td>55.200000</td>\n",
       "    </tr>\n",
       "  </tbody>\n",
       "</table>\n",
       "</div>"
      ],
      "text/plain": [
       "   height     weight\n",
       "0  167.84  59.720000\n",
       "1  174.92  66.160000\n",
       "2  170.36  64.943223\n",
       "3  174.20  64.360000\n",
       "4  172.88  55.200000"
      ]
     },
     "execution_count": 59,
     "metadata": {},
     "output_type": "execute_result"
    }
   ],
   "source": [
    "# 결측치를 다른 값으로 대체하기\n",
    "# 키와 몸무게는 평균치로 대체하는 것이 일반적\n",
    "\n",
    "df3 = df.fillna(df['weight'].mean())\n",
    "df3[:5]"
   ]
  },
  {
   "cell_type": "code",
   "execution_count": 60,
   "id": "e2a924a0",
   "metadata": {},
   "outputs": [
    {
     "data": {
      "text/html": [
       "<div>\n",
       "<style scoped>\n",
       "    .dataframe tbody tr th:only-of-type {\n",
       "        vertical-align: middle;\n",
       "    }\n",
       "\n",
       "    .dataframe tbody tr th {\n",
       "        vertical-align: top;\n",
       "    }\n",
       "\n",
       "    .dataframe thead th {\n",
       "        text-align: right;\n",
       "    }\n",
       "</style>\n",
       "<table border=\"1\" class=\"dataframe\">\n",
       "  <thead>\n",
       "    <tr style=\"text-align: right;\">\n",
       "      <th></th>\n",
       "      <th>height</th>\n",
       "      <th>weight</th>\n",
       "    </tr>\n",
       "  </thead>\n",
       "  <tbody>\n",
       "    <tr>\n",
       "      <th>0</th>\n",
       "      <td>167.84</td>\n",
       "      <td>59.72</td>\n",
       "    </tr>\n",
       "    <tr>\n",
       "      <th>1</th>\n",
       "      <td>174.92</td>\n",
       "      <td>66.16</td>\n",
       "    </tr>\n",
       "    <tr>\n",
       "      <th>2</th>\n",
       "      <td>170.36</td>\n",
       "      <td>0.00</td>\n",
       "    </tr>\n",
       "    <tr>\n",
       "      <th>3</th>\n",
       "      <td>174.20</td>\n",
       "      <td>64.36</td>\n",
       "    </tr>\n",
       "    <tr>\n",
       "      <th>4</th>\n",
       "      <td>172.88</td>\n",
       "      <td>55.20</td>\n",
       "    </tr>\n",
       "  </tbody>\n",
       "</table>\n",
       "</div>"
      ],
      "text/plain": [
       "   height  weight\n",
       "0  167.84   59.72\n",
       "1  174.92   66.16\n",
       "2  170.36    0.00\n",
       "3  174.20   64.36\n",
       "4  172.88   55.20"
      ]
     },
     "execution_count": 60,
     "metadata": {},
     "output_type": "execute_result"
    }
   ],
   "source": [
    "# 결측치 0으로 대체하는 경우\n",
    "# 키나 몸무게는 함부로 0으로 대체하면 안됨\n",
    "df.fillna(0)[:5]"
   ]
  },
  {
   "cell_type": "code",
   "execution_count": 61,
   "id": "271a3d65",
   "metadata": {},
   "outputs": [
    {
     "data": {
      "text/html": [
       "<div>\n",
       "<style scoped>\n",
       "    .dataframe tbody tr th:only-of-type {\n",
       "        vertical-align: middle;\n",
       "    }\n",
       "\n",
       "    .dataframe tbody tr th {\n",
       "        vertical-align: top;\n",
       "    }\n",
       "\n",
       "    .dataframe thead th {\n",
       "        text-align: right;\n",
       "    }\n",
       "</style>\n",
       "<table border=\"1\" class=\"dataframe\">\n",
       "  <thead>\n",
       "    <tr style=\"text-align: right;\">\n",
       "      <th></th>\n",
       "      <th>height</th>\n",
       "      <th>weight</th>\n",
       "    </tr>\n",
       "  </thead>\n",
       "  <tbody>\n",
       "    <tr>\n",
       "      <th>0</th>\n",
       "      <td>167.84</td>\n",
       "      <td>59.72</td>\n",
       "    </tr>\n",
       "    <tr>\n",
       "      <th>1</th>\n",
       "      <td>174.92</td>\n",
       "      <td>66.16</td>\n",
       "    </tr>\n",
       "    <tr>\n",
       "      <th>2</th>\n",
       "      <td>170.36</td>\n",
       "      <td>66.16</td>\n",
       "    </tr>\n",
       "    <tr>\n",
       "      <th>3</th>\n",
       "      <td>174.20</td>\n",
       "      <td>64.36</td>\n",
       "    </tr>\n",
       "    <tr>\n",
       "      <th>4</th>\n",
       "      <td>172.88</td>\n",
       "      <td>55.20</td>\n",
       "    </tr>\n",
       "  </tbody>\n",
       "</table>\n",
       "</div>"
      ],
      "text/plain": [
       "   height  weight\n",
       "0  167.84   59.72\n",
       "1  174.92   66.16\n",
       "2  170.36   66.16\n",
       "3  174.20   64.36\n",
       "4  172.88   55.20"
      ]
     },
     "execution_count": 61,
     "metadata": {},
     "output_type": "execute_result"
    }
   ],
   "source": [
    "# 결측치를 바로 이전/이후 값으로 대체할 수 있음\n",
    "# 키나 몸무게 같은 데이터가 아닌 날씨와 관련된 시계열 데이터인 경우 많이 사용\n",
    "# ffill(결측 이전 데이터) / bbfill(결측치 이후 데이터)\n",
    "# 사용법 fillna(method='ffill')\n",
    "\n",
    "df.fillna(method='ffill')[:5]"
   ]
  },
  {
   "cell_type": "code",
   "execution_count": null,
   "id": "f16d3605",
   "metadata": {},
   "outputs": [],
   "source": []
  },
  {
   "cell_type": "markdown",
   "id": "8a834330",
   "metadata": {},
   "source": [
    "# 스케일링\n",
    "- 여러 변수 값의 범위가 서로 다른 경우 데이터 분석에서 동일한 비중으로 반영하기 위해서는 동일한 범위를 갖도록 변환해야 한다 (예: 과목 성적 100점 만점으로 환산)\n",
    "- 표준 스케일링을 가장 많이 사용한다 (평균이 0, 표준편차가 1이 되도록 변환) \n",
    "    - 표준 스케일링을 했다고 데이터 분포가 정규분포가 되지는 않는다. 데이터 분포의 형태는 그대로 유지하되 평균을 0 표준편차를 1로 환산하는 것 뿐이지 데이터의 shape을 변경시키지는 않으므로 정규분포화라고 표현하면 안됨\n",
    "    - 과목간 편차가 있는경우 데이터가 외곡되므로 평균과 표준편차를 동일하게 환산\n",
    "    - 국어의 평균은 90점에 모여있고 수학은 70점에 모여 있다면 그 두 과목을 그냥 처리하면 외곡됨\n",
    "    - 수학은 편차가 크고 국어는 편차가 없으면 수학이 모든걸 좌우하는데 국어도 똑같은 비중으로 반영하게 하려면 퍼진정도를 맞춰줘야함\n",
    "- 값의 최소치와 최대치가 정해진 경우는 min-max 스케링일도 자주 사용된다 (최소치를 0으로, 최대치를 1로)\n",
    "    - 전압이 0-5 만 나온다면 min-max를 사용하기도 함\n",
    "\n",
    "## 표준 스케일링\n",
    "\n",
    "\n",
    "<img src=\"https://raw.githubusercontent.com/data-labs/image/main/%E1%84%89%E1%85%B3%E1%84%8F%E1%85%B3%E1%84%85%E1%85%B5%E1%86%AB%E1%84%89%E1%85%A3%E1%86%BA%202021-01-05%20%E1%84%8B%E1%85%A9%E1%84%92%E1%85%AE%208.52.14.png?raw=1\" width=140  align='left'>\n"
   ]
  },
  {
   "cell_type": "code",
   "execution_count": 18,
   "id": "17eae86e",
   "metadata": {},
   "outputs": [],
   "source": [
    "# 키, 몸무게 데이터를 각각 표준 스케일링한 후 컬럼에 추가\n",
    "# fit_transform () : 표준 스케일링을 구성해주는 함수\n",
    "# 데이터프레임의 키와 몸무게 두 컬럼을 가지고 평균과 표준편차를 구하고 모든 데이터마다 평균을 빼서 표준편차로 나눠주는 작업을 수행\n",
    "df = df_raw.copy() # 백업 데이터 사용 (결측치 없는)\n"
   ]
  },
  {
   "cell_type": "code",
   "execution_count": 62,
   "id": "d1da748f",
   "metadata": {},
   "outputs": [],
   "source": [
    "from sklearn.preprocessing import StandardScaler #표준 스케일링"
   ]
  },
  {
   "cell_type": "code",
   "execution_count": 63,
   "id": "bc4697e6",
   "metadata": {},
   "outputs": [],
   "source": [
    "scale = StandardScaler() # 생성자 호출"
   ]
  },
  {
   "cell_type": "code",
   "execution_count": 64,
   "id": "b1372dc4",
   "metadata": {},
   "outputs": [
    {
     "data": {
      "text/html": [
       "<div>\n",
       "<style scoped>\n",
       "    .dataframe tbody tr th:only-of-type {\n",
       "        vertical-align: middle;\n",
       "    }\n",
       "\n",
       "    .dataframe tbody tr th {\n",
       "        vertical-align: top;\n",
       "    }\n",
       "\n",
       "    .dataframe thead th {\n",
       "        text-align: right;\n",
       "    }\n",
       "</style>\n",
       "<table border=\"1\" class=\"dataframe\">\n",
       "  <thead>\n",
       "    <tr style=\"text-align: right;\">\n",
       "      <th></th>\n",
       "      <th>height</th>\n",
       "      <th>weight</th>\n",
       "      <th>h_sc</th>\n",
       "      <th>w_sc</th>\n",
       "    </tr>\n",
       "  </thead>\n",
       "  <tbody>\n",
       "    <tr>\n",
       "      <th>0</th>\n",
       "      <td>167.84</td>\n",
       "      <td>59.72</td>\n",
       "      <td>-0.535494</td>\n",
       "      <td>-1.300332</td>\n",
       "    </tr>\n",
       "    <tr>\n",
       "      <th>1</th>\n",
       "      <td>174.92</td>\n",
       "      <td>66.16</td>\n",
       "      <td>1.275023</td>\n",
       "      <td>0.302919</td>\n",
       "    </tr>\n",
       "    <tr>\n",
       "      <th>2</th>\n",
       "      <td>170.36</td>\n",
       "      <td>NaN</td>\n",
       "      <td>0.108928</td>\n",
       "      <td>NaN</td>\n",
       "    </tr>\n",
       "    <tr>\n",
       "      <th>3</th>\n",
       "      <td>174.20</td>\n",
       "      <td>64.36</td>\n",
       "      <td>1.090903</td>\n",
       "      <td>-0.145195</td>\n",
       "    </tr>\n",
       "    <tr>\n",
       "      <th>4</th>\n",
       "      <td>172.88</td>\n",
       "      <td>55.20</td>\n",
       "      <td>0.753349</td>\n",
       "      <td>-2.425595</td>\n",
       "    </tr>\n",
       "  </tbody>\n",
       "</table>\n",
       "</div>"
      ],
      "text/plain": [
       "   height  weight      h_sc      w_sc\n",
       "0  167.84   59.72 -0.535494 -1.300332\n",
       "1  174.92   66.16  1.275023  0.302919\n",
       "2  170.36     NaN  0.108928       NaN\n",
       "3  174.20   64.36  1.090903 -0.145195\n",
       "4  172.88   55.20  0.753349 -2.425595"
      ]
     },
     "execution_count": 64,
     "metadata": {},
     "output_type": "execute_result"
    }
   ],
   "source": [
    "df[['h_sc','w_sc']] = scale.fit_transform(df[['height', 'weight']])\n",
    "df[:5]"
   ]
  },
  {
   "cell_type": "code",
   "execution_count": 66,
   "id": "2f9035dc",
   "metadata": {},
   "outputs": [
    {
     "data": {
      "text/plain": [
       "4.674483022881759e-15"
      ]
     },
     "execution_count": 66,
     "metadata": {},
     "output_type": "execute_result"
    },
    {
     "data": {
      "text/plain": [
       "1.0005003753127746"
      ]
     },
     "execution_count": 66,
     "metadata": {},
     "output_type": "execute_result"
    }
   ],
   "source": [
    "# scale 평균, scale의 표준편차\n",
    "df['h_sc'].mean()\n",
    "df['h_sc'].std()\n"
   ]
  },
  {
   "cell_type": "markdown",
   "id": "13073dbf",
   "metadata": {},
   "source": [
    "### 데이터 분포 보기"
   ]
  },
  {
   "cell_type": "code",
   "execution_count": 67,
   "id": "43489fb9",
   "metadata": {},
   "outputs": [
    {
     "data": {
      "text/plain": [
       "<AxesSubplot:ylabel='Density'>"
      ]
     },
     "execution_count": 67,
     "metadata": {},
     "output_type": "execute_result"
    },
    {
     "data": {
      "image/png": "[encoded data removed]",
      "text/plain": [
       "<Figure size 432x288 with 1 Axes>"
      ]
     },
     "metadata": {
      "image/png": {
       "height": 249,
       "width": 393
      },
      "needs_background": "light"
     },
     "output_type": "display_data"
    }
   ],
   "source": [
    "# 원래 키, 몸무게의 데이터의 확률 분포 보기 (kernel density estimate 함수 사용)\n",
    "df[[\"height\",\"weight\"]].plot.kde() #히스토그램에 가장 근접한 확률분포함수를 이용한 그래프"
   ]
  },
  {
   "cell_type": "code",
   "execution_count": 68,
   "id": "d90fd818",
   "metadata": {
    "scrolled": true
   },
   "outputs": [
    {
     "data": {
      "text/plain": [
       "<AxesSubplot:ylabel='Density'>"
      ]
     },
     "execution_count": 68,
     "metadata": {},
     "output_type": "execute_result"
    },
    {
     "data": {
      "image/png": "[encoded data removed]",
      "text/plain": [
       "<Figure size 432x288 with 1 Axes>"
      ]
     },
     "metadata": {
      "image/png": {
       "height": 249,
       "width": 389
      },
      "needs_background": "light"
     },
     "output_type": "display_data"
    }
   ],
   "source": [
    "# 표준 스케일링된 데이터의 확률 분포 보기 - 정규분포로 생성했다\n",
    "df[[\"h_sc\",\"w_sc\"]].plot.kde() #데이터의 평균이 1이고 표준편차가 0인 형태로 변환\n",
    "# 키와 몸무게를 동일한 비중으로 사용하려면 값의 편차가 있으면 안된다\n"
   ]
  },
  {
   "cell_type": "markdown",
   "id": "3d09d70c",
   "metadata": {},
   "source": [
    "## Min-Max 스케일링\n",
    "- 데이터의 최소값이 0, 최대값이 1이 되도록 조정\n"
   ]
  },
  {
   "cell_type": "code",
   "execution_count": 69,
   "id": "af17d541",
   "metadata": {},
   "outputs": [
    {
     "data": {
      "text/html": [
       "<div>\n",
       "<style scoped>\n",
       "    .dataframe tbody tr th:only-of-type {\n",
       "        vertical-align: middle;\n",
       "    }\n",
       "\n",
       "    .dataframe tbody tr th {\n",
       "        vertical-align: top;\n",
       "    }\n",
       "\n",
       "    .dataframe thead th {\n",
       "        text-align: right;\n",
       "    }\n",
       "</style>\n",
       "<table border=\"1\" class=\"dataframe\">\n",
       "  <thead>\n",
       "    <tr style=\"text-align: right;\">\n",
       "      <th></th>\n",
       "      <th>height</th>\n",
       "      <th>weight</th>\n",
       "      <th>h_sc</th>\n",
       "      <th>w_sc</th>\n",
       "      <th>h_mima</th>\n",
       "      <th>w_mima</th>\n",
       "    </tr>\n",
       "  </thead>\n",
       "  <tbody>\n",
       "    <tr>\n",
       "      <th>0</th>\n",
       "      <td>167.84</td>\n",
       "      <td>59.72</td>\n",
       "      <td>-0.535494</td>\n",
       "      <td>-1.300332</td>\n",
       "      <td>0.432956</td>\n",
       "      <td>0.266348</td>\n",
       "    </tr>\n",
       "    <tr>\n",
       "      <th>1</th>\n",
       "      <td>174.92</td>\n",
       "      <td>66.16</td>\n",
       "      <td>1.275023</td>\n",
       "      <td>0.302919</td>\n",
       "      <td>0.718901</td>\n",
       "      <td>0.523126</td>\n",
       "    </tr>\n",
       "    <tr>\n",
       "      <th>2</th>\n",
       "      <td>170.36</td>\n",
       "      <td>NaN</td>\n",
       "      <td>0.108928</td>\n",
       "      <td>NaN</td>\n",
       "      <td>0.534733</td>\n",
       "      <td>NaN</td>\n",
       "    </tr>\n",
       "    <tr>\n",
       "      <th>3</th>\n",
       "      <td>174.20</td>\n",
       "      <td>64.36</td>\n",
       "      <td>1.090903</td>\n",
       "      <td>-0.145195</td>\n",
       "      <td>0.689822</td>\n",
       "      <td>0.451356</td>\n",
       "    </tr>\n",
       "    <tr>\n",
       "      <th>4</th>\n",
       "      <td>172.88</td>\n",
       "      <td>55.20</td>\n",
       "      <td>0.753349</td>\n",
       "      <td>-2.425595</td>\n",
       "      <td>0.636511</td>\n",
       "      <td>0.086124</td>\n",
       "    </tr>\n",
       "  </tbody>\n",
       "</table>\n",
       "</div>"
      ],
      "text/plain": [
       "   height  weight      h_sc      w_sc    h_mima    w_mima\n",
       "0  167.84   59.72 -0.535494 -1.300332  0.432956  0.266348\n",
       "1  174.92   66.16  1.275023  0.302919  0.718901  0.523126\n",
       "2  170.36     NaN  0.108928       NaN  0.534733       NaN\n",
       "3  174.20   64.36  1.090903 -0.145195  0.689822  0.451356\n",
       "4  172.88   55.20  0.753349 -2.425595  0.636511  0.086124"
      ]
     },
     "execution_count": 69,
     "metadata": {},
     "output_type": "execute_result"
    }
   ],
   "source": [
    "from sklearn.preprocessing import MinMaxScaler\n",
    "minmax = MinMaxScaler()\n",
    "df[['h_mima','w_mima']]=minmax.fit_transform(df[['height','weight']]) #0과 1사이의 값으로 치환\n",
    "df[:5]"
   ]
  },
  {
   "cell_type": "code",
   "execution_count": 70,
   "id": "af4c5b71",
   "metadata": {},
   "outputs": [
    {
     "data": {
      "text/plain": [
       "<AxesSubplot:ylabel='Density'>"
      ]
     },
     "execution_count": 70,
     "metadata": {},
     "output_type": "execute_result"
    },
    {
     "data": {
      "image/png": "[encoded data removed]",
      "text/plain": [
       "<Figure size 432x288 with 1 Axes>"
      ]
     },
     "metadata": {
      "image/png": {
       "height": 249,
       "width": 383
      },
      "needs_background": "light"
     },
     "output_type": "display_data"
    }
   ],
   "source": [
    "# min-max 스케일링 된 데이터의 확률 분포\n",
    "df[[\"h_mima\",\"w_mima\"]].plot.kde()\n",
    "\n",
    "# 0보다 적은 값이나 1보다 큰 값이 있어서 꼬리가 표현된 건 아님"
   ]
  },
  {
   "cell_type": "markdown",
   "id": "3dd7cb53",
   "metadata": {},
   "source": [
    "- 위의 결과를 보면 표준 스케일링과 min-max 스케일링 별 차이가 없음\n",
    "- 이상치가 있을 때는 두 스케일링 결과값의 변화 정도가 크게 달라짐"
   ]
  },
  {
   "cell_type": "code",
   "execution_count": 71,
   "id": "e2c2a312",
   "metadata": {},
   "outputs": [],
   "source": [
    "# 이상치가 포함된 키 데이터 생성: height_1\n",
    "# 첫번째 샘플의 키 값을 임의로 2m로 변경 (200)\n",
    "height_1 = height.copy()\n",
    "height_1[0] = 200"
   ]
  },
  {
   "cell_type": "code",
   "execution_count": 72,
   "id": "7a2465b7",
   "metadata": {},
   "outputs": [
    {
     "data": {
      "text/html": [
       "<div>\n",
       "<style scoped>\n",
       "    .dataframe tbody tr th:only-of-type {\n",
       "        vertical-align: middle;\n",
       "    }\n",
       "\n",
       "    .dataframe tbody tr th {\n",
       "        vertical-align: top;\n",
       "    }\n",
       "\n",
       "    .dataframe thead th {\n",
       "        text-align: right;\n",
       "    }\n",
       "</style>\n",
       "<table border=\"1\" class=\"dataframe\">\n",
       "  <thead>\n",
       "    <tr style=\"text-align: right;\">\n",
       "      <th></th>\n",
       "      <th>height</th>\n",
       "      <th>weight</th>\n",
       "      <th>h_sc</th>\n",
       "      <th>w_sc</th>\n",
       "      <th>h_mima</th>\n",
       "      <th>w_mima</th>\n",
       "      <th>height_1</th>\n",
       "    </tr>\n",
       "  </thead>\n",
       "  <tbody>\n",
       "    <tr>\n",
       "      <th>0</th>\n",
       "      <td>167.84</td>\n",
       "      <td>59.72</td>\n",
       "      <td>-0.535494</td>\n",
       "      <td>-1.300332</td>\n",
       "      <td>0.432956</td>\n",
       "      <td>0.266348</td>\n",
       "      <td>200.00</td>\n",
       "    </tr>\n",
       "    <tr>\n",
       "      <th>1</th>\n",
       "      <td>174.92</td>\n",
       "      <td>66.16</td>\n",
       "      <td>1.275023</td>\n",
       "      <td>0.302919</td>\n",
       "      <td>0.718901</td>\n",
       "      <td>0.523126</td>\n",
       "      <td>174.92</td>\n",
       "    </tr>\n",
       "    <tr>\n",
       "      <th>2</th>\n",
       "      <td>170.36</td>\n",
       "      <td>NaN</td>\n",
       "      <td>0.108928</td>\n",
       "      <td>NaN</td>\n",
       "      <td>0.534733</td>\n",
       "      <td>NaN</td>\n",
       "      <td>170.36</td>\n",
       "    </tr>\n",
       "  </tbody>\n",
       "</table>\n",
       "</div>"
      ],
      "text/plain": [
       "   height  weight      h_sc      w_sc    h_mima    w_mima  height_1\n",
       "0  167.84   59.72 -0.535494 -1.300332  0.432956  0.266348    200.00\n",
       "1  174.92   66.16  1.275023  0.302919  0.718901  0.523126    174.92\n",
       "2  170.36     NaN  0.108928       NaN  0.534733       NaN    170.36"
      ]
     },
     "execution_count": 72,
     "metadata": {},
     "output_type": "execute_result"
    }
   ],
   "source": [
    "df[\"height_1\"] = height_1\n",
    "df[:3]"
   ]
  },
  {
   "cell_type": "code",
   "execution_count": 73,
   "id": "3f7ade78",
   "metadata": {},
   "outputs": [
    {
     "data": {
      "text/html": [
       "<div>\n",
       "<style scoped>\n",
       "    .dataframe tbody tr th:only-of-type {\n",
       "        vertical-align: middle;\n",
       "    }\n",
       "\n",
       "    .dataframe tbody tr th {\n",
       "        vertical-align: top;\n",
       "    }\n",
       "\n",
       "    .dataframe thead th {\n",
       "        text-align: right;\n",
       "    }\n",
       "</style>\n",
       "<table border=\"1\" class=\"dataframe\">\n",
       "  <thead>\n",
       "    <tr style=\"text-align: right;\">\n",
       "      <th></th>\n",
       "      <th>height</th>\n",
       "      <th>weight</th>\n",
       "      <th>h_sc</th>\n",
       "      <th>w_sc</th>\n",
       "      <th>h_mima</th>\n",
       "      <th>w_mima</th>\n",
       "      <th>height_1</th>\n",
       "      <th>h_1_sc</th>\n",
       "    </tr>\n",
       "  </thead>\n",
       "  <tbody>\n",
       "    <tr>\n",
       "      <th>0</th>\n",
       "      <td>167.84</td>\n",
       "      <td>59.72</td>\n",
       "      <td>-0.535494</td>\n",
       "      <td>-1.300332</td>\n",
       "      <td>0.432956</td>\n",
       "      <td>0.266348</td>\n",
       "      <td>200.00</td>\n",
       "      <td>7.464161</td>\n",
       "    </tr>\n",
       "    <tr>\n",
       "      <th>1</th>\n",
       "      <td>174.92</td>\n",
       "      <td>66.16</td>\n",
       "      <td>1.275023</td>\n",
       "      <td>0.302919</td>\n",
       "      <td>0.718901</td>\n",
       "      <td>0.523126</td>\n",
       "      <td>174.92</td>\n",
       "      <td>1.231145</td>\n",
       "    </tr>\n",
       "    <tr>\n",
       "      <th>2</th>\n",
       "      <td>170.36</td>\n",
       "      <td>NaN</td>\n",
       "      <td>0.108928</td>\n",
       "      <td>NaN</td>\n",
       "      <td>0.534733</td>\n",
       "      <td>NaN</td>\n",
       "      <td>170.36</td>\n",
       "      <td>0.097869</td>\n",
       "    </tr>\n",
       "  </tbody>\n",
       "</table>\n",
       "</div>"
      ],
      "text/plain": [
       "   height  weight      h_sc      w_sc    h_mima    w_mima  height_1    h_1_sc\n",
       "0  167.84   59.72 -0.535494 -1.300332  0.432956  0.266348    200.00  7.464161\n",
       "1  174.92   66.16  1.275023  0.302919  0.718901  0.523126    174.92  1.231145\n",
       "2  170.36     NaN  0.108928       NaN  0.534733       NaN    170.36  0.097869"
      ]
     },
     "execution_count": 73,
     "metadata": {},
     "output_type": "execute_result"
    }
   ],
   "source": [
    "# 이상치가 포함된 데이터(컬럼)을 표준 스케일링을 적용\n",
    "df['h_1_sc'] = scale.fit_transform(df[['height_1']])\n",
    "df[:3]"
   ]
  },
  {
   "cell_type": "code",
   "execution_count": 74,
   "id": "34317f26",
   "metadata": {},
   "outputs": [
    {
     "data": {
      "text/plain": [
       "<AxesSubplot:ylabel='Density'>"
      ]
     },
     "execution_count": 74,
     "metadata": {},
     "output_type": "execute_result"
    },
    {
     "data": {
      "text/plain": [
       "<AxesSubplot:ylabel='Density'>"
      ]
     },
     "execution_count": 74,
     "metadata": {},
     "output_type": "execute_result"
    },
    {
     "data": {
      "image/png": "[encoded data removed]",
      "text/plain": [
       "<Figure size 432x288 with 1 Axes>"
      ]
     },
     "metadata": {
      "image/png": {
       "height": 249,
       "width": 389
      },
      "needs_background": "light"
     },
     "output_type": "display_data"
    },
    {
     "data": {
      "image/png": "[encoded data removed]",
      "text/plain": [
       "<Figure size 432x288 with 1 Axes>"
      ]
     },
     "metadata": {
      "image/png": {
       "height": 249,
       "width": 389
      },
      "needs_background": "light"
     },
     "output_type": "display_data"
    }
   ],
   "source": [
    "# 이상치가 있더라도 표준 스케일링의 분포는 변화가 거의 없음\n",
    "# 한 두개의 이상치로 인해 전체 평균과 표준편차는 거의 변화지 않음\n",
    "df[['h_sc','h_1_sc']].plot.kde()\n",
    "df[['w_sc','h_1_sc']].plot.kde()"
   ]
  },
  {
   "cell_type": "code",
   "execution_count": 75,
   "id": "be708ee1",
   "metadata": {},
   "outputs": [
    {
     "data": {
      "text/html": [
       "<div>\n",
       "<style scoped>\n",
       "    .dataframe tbody tr th:only-of-type {\n",
       "        vertical-align: middle;\n",
       "    }\n",
       "\n",
       "    .dataframe tbody tr th {\n",
       "        vertical-align: top;\n",
       "    }\n",
       "\n",
       "    .dataframe thead th {\n",
       "        text-align: right;\n",
       "    }\n",
       "</style>\n",
       "<table border=\"1\" class=\"dataframe\">\n",
       "  <thead>\n",
       "    <tr style=\"text-align: right;\">\n",
       "      <th></th>\n",
       "      <th>height</th>\n",
       "      <th>weight</th>\n",
       "      <th>h_sc</th>\n",
       "      <th>w_sc</th>\n",
       "      <th>h_mima</th>\n",
       "      <th>w_mima</th>\n",
       "      <th>height_1</th>\n",
       "      <th>h_1_sc</th>\n",
       "      <th>h_1_mima</th>\n",
       "    </tr>\n",
       "  </thead>\n",
       "  <tbody>\n",
       "    <tr>\n",
       "      <th>0</th>\n",
       "      <td>167.84</td>\n",
       "      <td>59.72</td>\n",
       "      <td>-0.535494</td>\n",
       "      <td>-1.300332</td>\n",
       "      <td>0.432956</td>\n",
       "      <td>0.266348</td>\n",
       "      <td>200.00</td>\n",
       "      <td>7.464161</td>\n",
       "      <td>1.000000</td>\n",
       "    </tr>\n",
       "    <tr>\n",
       "      <th>1</th>\n",
       "      <td>174.92</td>\n",
       "      <td>66.16</td>\n",
       "      <td>1.275023</td>\n",
       "      <td>0.302919</td>\n",
       "      <td>0.718901</td>\n",
       "      <td>0.523126</td>\n",
       "      <td>174.92</td>\n",
       "      <td>1.231145</td>\n",
       "      <td>0.415112</td>\n",
       "    </tr>\n",
       "    <tr>\n",
       "      <th>2</th>\n",
       "      <td>170.36</td>\n",
       "      <td>NaN</td>\n",
       "      <td>0.108928</td>\n",
       "      <td>NaN</td>\n",
       "      <td>0.534733</td>\n",
       "      <td>NaN</td>\n",
       "      <td>170.36</td>\n",
       "      <td>0.097869</td>\n",
       "      <td>0.308769</td>\n",
       "    </tr>\n",
       "  </tbody>\n",
       "</table>\n",
       "</div>"
      ],
      "text/plain": [
       "   height  weight      h_sc      w_sc    h_mima    w_mima  height_1    h_1_sc  \\\n",
       "0  167.84   59.72 -0.535494 -1.300332  0.432956  0.266348    200.00  7.464161   \n",
       "1  174.92   66.16  1.275023  0.302919  0.718901  0.523126    174.92  1.231145   \n",
       "2  170.36     NaN  0.108928       NaN  0.534733       NaN    170.36  0.097869   \n",
       "\n",
       "   h_1_mima  \n",
       "0  1.000000  \n",
       "1  0.415112  \n",
       "2  0.308769  "
      ]
     },
     "execution_count": 75,
     "metadata": {},
     "output_type": "execute_result"
    }
   ],
   "source": [
    "# 이상치가 있는 데이터에  min-max 스케일링을 적용\n",
    "df['h_1_mima']=minmax.fit_transform(df[['height_1']])\n",
    "df[:3] # 2m가 1이 되므로 나머지는 상대적으로 작아짐\n"
   ]
  },
  {
   "cell_type": "code",
   "execution_count": 76,
   "id": "e766eaac",
   "metadata": {},
   "outputs": [
    {
     "data": {
      "text/plain": [
       "<AxesSubplot:ylabel='Density'>"
      ]
     },
     "execution_count": 76,
     "metadata": {},
     "output_type": "execute_result"
    },
    {
     "data": {
      "image/png": "[encoded data removed]",
      "text/plain": [
       "<Figure size 432x288 with 1 Axes>"
      ]
     },
     "metadata": {
      "image/png": {
       "height": 249,
       "width": 376
      },
      "needs_background": "light"
     },
     "output_type": "display_data"
    }
   ],
   "source": [
    "df[['h_mima','h_1_mima']].plot.kde()\n",
    "\n",
    "# 정상값과 이상치포함값의 분포를 확인해보면 결과가 많이 달라짐 - 데이터분석시 입력값이 모두 달라진듯한 효과를 보인다\n",
    "# 이상치가 들어오면 min_max인 경우에는 값이 달라질 수 있다는 것을 각오 하고 써야하며 \n",
    "# 범위가 일정하다라는것이 명확하다면 편리하게 사용 가능"
   ]
  },
  {
   "cell_type": "markdown",
   "id": "db5a1db4",
   "metadata": {},
   "source": [
    "### 이상치 처리\n",
    "- 경험이 필요함\n",
    "- 이상치 처리의 목적은 두가지 이다\n",
    " - 1) 이상치를 제거하여 데이터 분석의 정확도를 높이려는 경우\n",
    " - 2) 이상치를 찾는 것 자체가 목적인 경우 (outlier detection)\n",
    "     - 신용카드 사용 시 특이한 구매를 찾는경우\n",
    "     - 기기 이상을 찾는 경우\n",
    " \n",
    "- 아래는 모두 같은 상관계수를 같는 데이터 셋이다\n",
    "    - 그러나 성격은 다르다\n",
    "\n",
    "<img src=\"https://raw.githubusercontent.com/data-labs/image/main/%E1%84%89%E1%85%B3%E1%84%8F%E1%85%B3%E1%84%85%E1%85%B5%E1%86%AB%E1%84%89%E1%85%A3%E1%86%BA%202021-01-03%20%E1%84%8B%E1%85%A9%E1%84%92%E1%85%AE%201.47.02.png?raw=1\" width=400 align='left'>\n"
   ]
  },
  {
   "cell_type": "markdown",
   "id": "b7a5f342",
   "metadata": {},
   "source": [
    "## 이상치 탐지\n",
    " - boxplot()을 보면 이상치 존재를 파악하기 쉽다\n",
    " - 표준 스케일링 한 후 값이 큰 것들 (예 6 이상)을 찾는 방법이 일반적이다\n"
   ]
  },
  {
   "cell_type": "code",
   "execution_count": 77,
   "id": "528f8984",
   "metadata": {},
   "outputs": [
    {
     "data": {
      "text/plain": [
       "<AxesSubplot:>"
      ]
     },
     "execution_count": 77,
     "metadata": {},
     "output_type": "execute_result"
    },
    {
     "data": {
      "image/png": "[encoded data removed]",
      "text/plain": [
       "<Figure size 432x288 with 1 Axes>"
      ]
     },
     "metadata": {
      "image/png": {
       "height": 249,
       "width": 372
      },
      "needs_background": "light"
     },
     "output_type": "display_data"
    }
   ],
   "source": [
    "df[[\"height\", \"height_1\"]].boxplot()"
   ]
  },
  {
   "cell_type": "code",
   "execution_count": 34,
   "id": "4bc1012d",
   "metadata": {},
   "outputs": [
    {
     "data": {
      "text/plain": [
       "<AxesSubplot:>"
      ]
     },
     "execution_count": 34,
     "metadata": {},
     "output_type": "execute_result"
    },
    {
     "data": {
      "image/png": "[encoded data removed]",
      "text/plain": [
       "<Figure size 432x288 with 1 Axes>"
      ]
     },
     "metadata": {
      "image/png": {
       "height": 249,
       "width": 365
      },
      "needs_background": "light"
     },
     "output_type": "display_data"
    }
   ],
   "source": [
    "df[[\"h_sc\", \"h_1_sc\"]].boxplot() # 키 2m인 사람은 7 시그만 밖에 존재"
   ]
  },
  {
   "cell_type": "markdown",
   "id": "53da5627",
   "metadata": {},
   "source": [
    "## 데이터 변환\n",
    "### 로그 변환\n",
    "\n",
    "- 어떤 변수는 로그를 취해야 입출력 관계에서 선형적인 변화(효과)를 표현하는 경우가 있다\n",
    "- 예: 돈(수입/지출), 생물학적 자극과 반응 관계 (청각, 미각, 후각, 압력 등) \n",
    "- 소리가 작을 때는 조금만 커져도 변화를 느끼지만 소리가 큰 경우는 많이 커져야 변화를 느낄 수 있다\n",
    "- 데이터 분석에서는 입출력 관계가 선형적일 때 가장 잘 예측할 수 있다 (선형적일수록 예측이 잘 된다)\n"
   ]
  },
  {
   "cell_type": "code",
   "execution_count": 78,
   "id": "be4b2191",
   "metadata": {},
   "outputs": [
    {
     "data": {
      "text/plain": [
       "[<matplotlib.lines.Line2D at 0x231ddcde0a0>]"
      ]
     },
     "execution_count": 78,
     "metadata": {},
     "output_type": "execute_result"
    },
    {
     "data": {
      "image/png": "[encoded data removed]",
      "text/plain": [
       "<Figure size 432x288 with 1 Axes>"
      ]
     },
     "metadata": {
      "image/png": {
       "height": 262,
       "width": 367
      },
      "needs_background": "light"
     },
     "output_type": "display_data"
    }
   ],
   "source": [
    "x = np.linspace(1, 1000000, 200)\n",
    "y = np.log(x)\n",
    "\n",
    "plt.plot(x,y)"
   ]
  },
  {
   "cell_type": "code",
   "execution_count": 79,
   "id": "d1f1e5ff",
   "metadata": {},
   "outputs": [
    {
     "data": {
      "text/plain": [
       "[<matplotlib.lines.Line2D at 0x231de4d4190>]"
      ]
     },
     "execution_count": 79,
     "metadata": {},
     "output_type": "execute_result"
    },
    {
     "data": {
      "image/png": "[encoded data removed]",
      "text/plain": [
       "<Figure size 432x288 with 1 Axes>"
      ]
     },
     "metadata": {
      "image/png": {
       "height": 249,
       "width": 367
      },
      "needs_background": "light"
     },
     "output_type": "display_data"
    }
   ],
   "source": [
    "# x값에 로그를 취하면 x와 y의 관계가 선형적이 됨\n",
    "\n",
    "plt.xscale('log')\n",
    "plt.plot(x,y)"
   ]
  },
  {
   "cell_type": "markdown",
   "id": "d346a8eb",
   "metadata": {},
   "source": [
    "## 카테고리 인코딩\n",
    "\n",
    "- 연속형 숫자 데이터를 카테고리형(범주형)으로 바꾸는 것\n",
    "- 학생의 실력이 늘어나면 비례해서 용돈을 더 주기로 했을 때 학생의 실력이 얼마나 늘어났는지 두 학생의 차이가 어떤지 알고 싶을 때\n",
    "- (예) 시험점수, 등수 차이만으로는 학생의 실력 차이를 파악하기 어렵다\n",
    " - 3점 차이\n",
    " - 3등 차이 : 450등과 453등 vs 1등과 4등\n",
    " - 3등급 차이 (등급 차이는 실력차이를 선형적으로 표현한다)\n",
    "\n",
    "- 입력 값의 변화가 선형적(linear)인 효과를 나타낼 때 예측에 도움이 된다\n",
    "- 내신성적 9등급제는 정규분포를 0.5 시그마 간격으로 (등간격으로) 나눈 것 (총 4.5 시그마 범위)\n",
    "- 입력의 변화에 비례해서 출력을 예측하려면 변화가 선형적으로 효과적이어야 하는데 점수나 등수로는 부가정보(그전 등수, 전교생 수 등)를 줘야 하는데 등급을 사용하면 등급만으로 실력차나 실력 향상을 알 수 있다\n",
    "\n",
    "\n",
    "<img src=\"https://raw.githubusercontent.com/data-labs/image/main/%E1%84%89%E1%85%B3%E1%84%8F%E1%85%B3%E1%84%85%E1%85%B5%E1%86%AB%E1%84%89%E1%85%A3%E1%86%BA%202021-01-03%20%E1%84%8B%E1%85%A9%E1%84%92%E1%85%AE%201.48.55.png?raw=1\" width=400 align='left'>\n"
   ]
  },
  {
   "cell_type": "code",
   "execution_count": 80,
   "id": "9721c673",
   "metadata": {},
   "outputs": [
    {
     "data": {
      "text/html": [
       "<div>\n",
       "<style scoped>\n",
       "    .dataframe tbody tr th:only-of-type {\n",
       "        vertical-align: middle;\n",
       "    }\n",
       "\n",
       "    .dataframe tbody tr th {\n",
       "        vertical-align: top;\n",
       "    }\n",
       "\n",
       "    .dataframe thead th {\n",
       "        text-align: right;\n",
       "    }\n",
       "</style>\n",
       "<table border=\"1\" class=\"dataframe\">\n",
       "  <thead>\n",
       "    <tr style=\"text-align: right;\">\n",
       "      <th></th>\n",
       "      <th>height</th>\n",
       "      <th>weight</th>\n",
       "      <th>h_sc</th>\n",
       "      <th>w_sc</th>\n",
       "      <th>h_mima</th>\n",
       "      <th>w_mima</th>\n",
       "      <th>height_1</th>\n",
       "      <th>h_1_sc</th>\n",
       "      <th>h_1_mima</th>\n",
       "    </tr>\n",
       "  </thead>\n",
       "  <tbody>\n",
       "    <tr>\n",
       "      <th>0</th>\n",
       "      <td>167.84</td>\n",
       "      <td>59.72</td>\n",
       "      <td>-0.535494</td>\n",
       "      <td>-1.300332</td>\n",
       "      <td>0.432956</td>\n",
       "      <td>0.266348</td>\n",
       "      <td>200.00</td>\n",
       "      <td>7.464161</td>\n",
       "      <td>1.000000</td>\n",
       "    </tr>\n",
       "    <tr>\n",
       "      <th>1</th>\n",
       "      <td>174.92</td>\n",
       "      <td>66.16</td>\n",
       "      <td>1.275023</td>\n",
       "      <td>0.302919</td>\n",
       "      <td>0.718901</td>\n",
       "      <td>0.523126</td>\n",
       "      <td>174.92</td>\n",
       "      <td>1.231145</td>\n",
       "      <td>0.415112</td>\n",
       "    </tr>\n",
       "    <tr>\n",
       "      <th>2</th>\n",
       "      <td>170.36</td>\n",
       "      <td>NaN</td>\n",
       "      <td>0.108928</td>\n",
       "      <td>NaN</td>\n",
       "      <td>0.534733</td>\n",
       "      <td>NaN</td>\n",
       "      <td>170.36</td>\n",
       "      <td>0.097869</td>\n",
       "      <td>0.308769</td>\n",
       "    </tr>\n",
       "    <tr>\n",
       "      <th>3</th>\n",
       "      <td>174.20</td>\n",
       "      <td>64.36</td>\n",
       "      <td>1.090903</td>\n",
       "      <td>-0.145195</td>\n",
       "      <td>0.689822</td>\n",
       "      <td>0.451356</td>\n",
       "      <td>174.20</td>\n",
       "      <td>1.052207</td>\n",
       "      <td>0.398321</td>\n",
       "    </tr>\n",
       "    <tr>\n",
       "      <th>4</th>\n",
       "      <td>172.88</td>\n",
       "      <td>55.20</td>\n",
       "      <td>0.753349</td>\n",
       "      <td>-2.425595</td>\n",
       "      <td>0.636511</td>\n",
       "      <td>0.086124</td>\n",
       "      <td>172.88</td>\n",
       "      <td>0.724153</td>\n",
       "      <td>0.367537</td>\n",
       "    </tr>\n",
       "    <tr>\n",
       "      <th>...</th>\n",
       "      <td>...</td>\n",
       "      <td>...</td>\n",
       "      <td>...</td>\n",
       "      <td>...</td>\n",
       "      <td>...</td>\n",
       "      <td>...</td>\n",
       "      <td>...</td>\n",
       "      <td>...</td>\n",
       "      <td>...</td>\n",
       "    </tr>\n",
       "    <tr>\n",
       "      <th>995</th>\n",
       "      <td>172.20</td>\n",
       "      <td>73.24</td>\n",
       "      <td>0.579458</td>\n",
       "      <td>2.065499</td>\n",
       "      <td>0.609047</td>\n",
       "      <td>0.805423</td>\n",
       "      <td>172.20</td>\n",
       "      <td>0.555156</td>\n",
       "      <td>0.351679</td>\n",
       "    </tr>\n",
       "    <tr>\n",
       "      <th>996</th>\n",
       "      <td>171.28</td>\n",
       "      <td>63.52</td>\n",
       "      <td>0.344193</td>\n",
       "      <td>-0.354314</td>\n",
       "      <td>0.571890</td>\n",
       "      <td>0.417863</td>\n",
       "      <td>171.28</td>\n",
       "      <td>0.326513</td>\n",
       "      <td>0.330224</td>\n",
       "    </tr>\n",
       "    <tr>\n",
       "      <th>997</th>\n",
       "      <td>167.88</td>\n",
       "      <td>61.80</td>\n",
       "      <td>-0.525265</td>\n",
       "      <td>-0.782512</td>\n",
       "      <td>0.434572</td>\n",
       "      <td>0.349282</td>\n",
       "      <td>167.88</td>\n",
       "      <td>-0.518474</td>\n",
       "      <td>0.250933</td>\n",
       "    </tr>\n",
       "    <tr>\n",
       "      <th>998</th>\n",
       "      <td>177.44</td>\n",
       "      <td>67.32</td>\n",
       "      <td>1.919445</td>\n",
       "      <td>0.591703</td>\n",
       "      <td>0.820679</td>\n",
       "      <td>0.569378</td>\n",
       "      <td>177.44</td>\n",
       "      <td>1.857429</td>\n",
       "      <td>0.473881</td>\n",
       "    </tr>\n",
       "    <tr>\n",
       "      <th>999</th>\n",
       "      <td>176.68</td>\n",
       "      <td>73.12</td>\n",
       "      <td>1.725095</td>\n",
       "      <td>2.035625</td>\n",
       "      <td>0.789984</td>\n",
       "      <td>0.800638</td>\n",
       "      <td>176.68</td>\n",
       "      <td>1.668550</td>\n",
       "      <td>0.456157</td>\n",
       "    </tr>\n",
       "  </tbody>\n",
       "</table>\n",
       "<p>1000 rows × 9 columns</p>\n",
       "</div>"
      ],
      "text/plain": [
       "     height  weight      h_sc      w_sc    h_mima    w_mima  height_1  \\\n",
       "0    167.84   59.72 -0.535494 -1.300332  0.432956  0.266348    200.00   \n",
       "1    174.92   66.16  1.275023  0.302919  0.718901  0.523126    174.92   \n",
       "2    170.36     NaN  0.108928       NaN  0.534733       NaN    170.36   \n",
       "3    174.20   64.36  1.090903 -0.145195  0.689822  0.451356    174.20   \n",
       "4    172.88   55.20  0.753349 -2.425595  0.636511  0.086124    172.88   \n",
       "..      ...     ...       ...       ...       ...       ...       ...   \n",
       "995  172.20   73.24  0.579458  2.065499  0.609047  0.805423    172.20   \n",
       "996  171.28   63.52  0.344193 -0.354314  0.571890  0.417863    171.28   \n",
       "997  167.88   61.80 -0.525265 -0.782512  0.434572  0.349282    167.88   \n",
       "998  177.44   67.32  1.919445  0.591703  0.820679  0.569378    177.44   \n",
       "999  176.68   73.12  1.725095  2.035625  0.789984  0.800638    176.68   \n",
       "\n",
       "       h_1_sc  h_1_mima  \n",
       "0    7.464161  1.000000  \n",
       "1    1.231145  0.415112  \n",
       "2    0.097869  0.308769  \n",
       "3    1.052207  0.398321  \n",
       "4    0.724153  0.367537  \n",
       "..        ...       ...  \n",
       "995  0.555156  0.351679  \n",
       "996  0.326513  0.330224  \n",
       "997 -0.518474  0.250933  \n",
       "998  1.857429  0.473881  \n",
       "999  1.668550  0.456157  \n",
       "\n",
       "[1000 rows x 9 columns]"
      ]
     },
     "execution_count": 80,
     "metadata": {},
     "output_type": "execute_result"
    }
   ],
   "source": [
    "df"
   ]
  },
  {
   "cell_type": "markdown",
   "id": "e1349b68",
   "metadata": {},
   "source": [
    "### 키의 등급 나누기\n",
    "- 표준 편차를 기준으로 킬르 3개의 등급으로 나눔"
   ]
  },
  {
   "cell_type": "code",
   "execution_count": 81,
   "id": "3589e6ec",
   "metadata": {},
   "outputs": [],
   "source": [
    "df.loc[df['height']>=174, 'tall'] = 'large' # 처음으로 tall 컬럼이 생성되고 나머지 빈 곳은 NaN값\n",
    "df.loc[(df['height']<174) & (df['height']>=166) , 'tall'] = 'standard'\n",
    "df.loc[df['height']<166 , 'tall'] = 'small'"
   ]
  },
  {
   "cell_type": "code",
   "execution_count": 82,
   "id": "fc2b99b4",
   "metadata": {},
   "outputs": [
    {
     "data": {
      "text/html": [
       "<div>\n",
       "<style scoped>\n",
       "    .dataframe tbody tr th:only-of-type {\n",
       "        vertical-align: middle;\n",
       "    }\n",
       "\n",
       "    .dataframe tbody tr th {\n",
       "        vertical-align: top;\n",
       "    }\n",
       "\n",
       "    .dataframe thead th {\n",
       "        text-align: right;\n",
       "    }\n",
       "</style>\n",
       "<table border=\"1\" class=\"dataframe\">\n",
       "  <thead>\n",
       "    <tr style=\"text-align: right;\">\n",
       "      <th></th>\n",
       "      <th>height</th>\n",
       "      <th>weight</th>\n",
       "      <th>h_sc</th>\n",
       "      <th>w_sc</th>\n",
       "      <th>h_mima</th>\n",
       "      <th>w_mima</th>\n",
       "      <th>height_1</th>\n",
       "      <th>h_1_sc</th>\n",
       "      <th>h_1_mima</th>\n",
       "      <th>tall</th>\n",
       "    </tr>\n",
       "  </thead>\n",
       "  <tbody>\n",
       "    <tr>\n",
       "      <th>0</th>\n",
       "      <td>167.84</td>\n",
       "      <td>59.72</td>\n",
       "      <td>-0.535494</td>\n",
       "      <td>-1.300332</td>\n",
       "      <td>0.432956</td>\n",
       "      <td>0.266348</td>\n",
       "      <td>200.00</td>\n",
       "      <td>7.464161</td>\n",
       "      <td>1.000000</td>\n",
       "      <td>standard</td>\n",
       "    </tr>\n",
       "    <tr>\n",
       "      <th>1</th>\n",
       "      <td>174.92</td>\n",
       "      <td>66.16</td>\n",
       "      <td>1.275023</td>\n",
       "      <td>0.302919</td>\n",
       "      <td>0.718901</td>\n",
       "      <td>0.523126</td>\n",
       "      <td>174.92</td>\n",
       "      <td>1.231145</td>\n",
       "      <td>0.415112</td>\n",
       "      <td>large</td>\n",
       "    </tr>\n",
       "    <tr>\n",
       "      <th>2</th>\n",
       "      <td>170.36</td>\n",
       "      <td>NaN</td>\n",
       "      <td>0.108928</td>\n",
       "      <td>NaN</td>\n",
       "      <td>0.534733</td>\n",
       "      <td>NaN</td>\n",
       "      <td>170.36</td>\n",
       "      <td>0.097869</td>\n",
       "      <td>0.308769</td>\n",
       "      <td>standard</td>\n",
       "    </tr>\n",
       "    <tr>\n",
       "      <th>3</th>\n",
       "      <td>174.20</td>\n",
       "      <td>64.36</td>\n",
       "      <td>1.090903</td>\n",
       "      <td>-0.145195</td>\n",
       "      <td>0.689822</td>\n",
       "      <td>0.451356</td>\n",
       "      <td>174.20</td>\n",
       "      <td>1.052207</td>\n",
       "      <td>0.398321</td>\n",
       "      <td>large</td>\n",
       "    </tr>\n",
       "    <tr>\n",
       "      <th>4</th>\n",
       "      <td>172.88</td>\n",
       "      <td>55.20</td>\n",
       "      <td>0.753349</td>\n",
       "      <td>-2.425595</td>\n",
       "      <td>0.636511</td>\n",
       "      <td>0.086124</td>\n",
       "      <td>172.88</td>\n",
       "      <td>0.724153</td>\n",
       "      <td>0.367537</td>\n",
       "      <td>standard</td>\n",
       "    </tr>\n",
       "  </tbody>\n",
       "</table>\n",
       "</div>"
      ],
      "text/plain": [
       "   height  weight      h_sc      w_sc    h_mima    w_mima  height_1    h_1_sc  \\\n",
       "0  167.84   59.72 -0.535494 -1.300332  0.432956  0.266348    200.00  7.464161   \n",
       "1  174.92   66.16  1.275023  0.302919  0.718901  0.523126    174.92  1.231145   \n",
       "2  170.36     NaN  0.108928       NaN  0.534733       NaN    170.36  0.097869   \n",
       "3  174.20   64.36  1.090903 -0.145195  0.689822  0.451356    174.20  1.052207   \n",
       "4  172.88   55.20  0.753349 -2.425595  0.636511  0.086124    172.88  0.724153   \n",
       "\n",
       "   h_1_mima      tall  \n",
       "0  1.000000  standard  \n",
       "1  0.415112     large  \n",
       "2  0.308769  standard  \n",
       "3  0.398321     large  \n",
       "4  0.367537  standard  "
      ]
     },
     "execution_count": 82,
     "metadata": {},
     "output_type": "execute_result"
    }
   ],
   "source": [
    "df.head()"
   ]
  },
  {
   "cell_type": "code",
   "execution_count": 83,
   "id": "40946c6d",
   "metadata": {},
   "outputs": [
    {
     "data": {
      "text/plain": [
       "standard    709\n",
       "small       150\n",
       "large       141\n",
       "Name: tall, dtype: int64"
      ]
     },
     "execution_count": 83,
     "metadata": {},
     "output_type": "execute_result"
    }
   ],
   "source": [
    "# tall 컬럼(카테고리 데이터) 구성비\n",
    "df['tall'].value_counts()"
   ]
  },
  {
   "cell_type": "code",
   "execution_count": 84,
   "id": "6ac18895",
   "metadata": {},
   "outputs": [
    {
     "data": {
      "text/plain": [
       "standard    70.9\n",
       "small       15.0\n",
       "large       14.1\n",
       "Name: tall, dtype: float64"
      ]
     },
     "execution_count": 84,
     "metadata": {},
     "output_type": "execute_result"
    }
   ],
   "source": [
    "# 구성 비율\n",
    "df['tall'].value_counts() / len(df) *100"
   ]
  },
  {
   "cell_type": "markdown",
   "id": "ec512b15",
   "metadata": {},
   "source": [
    "### 원 핫 인코딩\n",
    "- 카테고리 변수는 일반적으로 원핫(one-hot) 인코딩으로 표현해야 계산에 사용하기 쉽다\n",
    " - 데이터 분석에서는 모든 카테고리 데이터('large', 'standard' 등)를 숫자로 바뀌어야 한다\n",
    "- pd.get_dummies() 사용"
   ]
  },
  {
   "cell_type": "code",
   "execution_count": 85,
   "id": "35804811",
   "metadata": {},
   "outputs": [
    {
     "data": {
      "text/html": [
       "<div>\n",
       "<style scoped>\n",
       "    .dataframe tbody tr th:only-of-type {\n",
       "        vertical-align: middle;\n",
       "    }\n",
       "\n",
       "    .dataframe tbody tr th {\n",
       "        vertical-align: top;\n",
       "    }\n",
       "\n",
       "    .dataframe thead th {\n",
       "        text-align: right;\n",
       "    }\n",
       "</style>\n",
       "<table border=\"1\" class=\"dataframe\">\n",
       "  <thead>\n",
       "    <tr style=\"text-align: right;\">\n",
       "      <th></th>\n",
       "      <th>large</th>\n",
       "      <th>small</th>\n",
       "      <th>standard</th>\n",
       "    </tr>\n",
       "  </thead>\n",
       "  <tbody>\n",
       "    <tr>\n",
       "      <th>0</th>\n",
       "      <td>0</td>\n",
       "      <td>0</td>\n",
       "      <td>1</td>\n",
       "    </tr>\n",
       "    <tr>\n",
       "      <th>1</th>\n",
       "      <td>1</td>\n",
       "      <td>0</td>\n",
       "      <td>0</td>\n",
       "    </tr>\n",
       "    <tr>\n",
       "      <th>2</th>\n",
       "      <td>0</td>\n",
       "      <td>0</td>\n",
       "      <td>1</td>\n",
       "    </tr>\n",
       "    <tr>\n",
       "      <th>3</th>\n",
       "      <td>1</td>\n",
       "      <td>0</td>\n",
       "      <td>0</td>\n",
       "    </tr>\n",
       "    <tr>\n",
       "      <th>4</th>\n",
       "      <td>0</td>\n",
       "      <td>0</td>\n",
       "      <td>1</td>\n",
       "    </tr>\n",
       "  </tbody>\n",
       "</table>\n",
       "</div>"
      ],
      "text/plain": [
       "   large  small  standard\n",
       "0      0      0         1\n",
       "1      1      0         0\n",
       "2      0      0         1\n",
       "3      1      0         0\n",
       "4      0      0         1"
      ]
     },
     "execution_count": 85,
     "metadata": {},
     "output_type": "execute_result"
    }
   ],
   "source": [
    "## 카테고리 변수를 df로 생성후 결과를 반환\n",
    "df_tail = pd.get_dummies(df['tall'])\n",
    "df_tail[:5]"
   ]
  },
  {
   "cell_type": "code",
   "execution_count": 86,
   "id": "367d24d7",
   "metadata": {},
   "outputs": [
    {
     "data": {
      "text/html": [
       "<div>\n",
       "<style scoped>\n",
       "    .dataframe tbody tr th:only-of-type {\n",
       "        vertical-align: middle;\n",
       "    }\n",
       "\n",
       "    .dataframe tbody tr th {\n",
       "        vertical-align: top;\n",
       "    }\n",
       "\n",
       "    .dataframe thead th {\n",
       "        text-align: right;\n",
       "    }\n",
       "</style>\n",
       "<table border=\"1\" class=\"dataframe\">\n",
       "  <thead>\n",
       "    <tr style=\"text-align: right;\">\n",
       "      <th></th>\n",
       "      <th>height</th>\n",
       "      <th>weight</th>\n",
       "      <th>h_sc</th>\n",
       "      <th>w_sc</th>\n",
       "      <th>h_mima</th>\n",
       "      <th>w_mima</th>\n",
       "      <th>height_1</th>\n",
       "      <th>h_1_sc</th>\n",
       "      <th>h_1_mima</th>\n",
       "      <th>tall</th>\n",
       "      <th>large</th>\n",
       "      <th>small</th>\n",
       "      <th>standard</th>\n",
       "    </tr>\n",
       "  </thead>\n",
       "  <tbody>\n",
       "    <tr>\n",
       "      <th>0</th>\n",
       "      <td>167.84</td>\n",
       "      <td>59.72</td>\n",
       "      <td>-0.535494</td>\n",
       "      <td>-1.300332</td>\n",
       "      <td>0.432956</td>\n",
       "      <td>0.266348</td>\n",
       "      <td>200.00</td>\n",
       "      <td>7.464161</td>\n",
       "      <td>1.000000</td>\n",
       "      <td>standard</td>\n",
       "      <td>0</td>\n",
       "      <td>0</td>\n",
       "      <td>1</td>\n",
       "    </tr>\n",
       "    <tr>\n",
       "      <th>1</th>\n",
       "      <td>174.92</td>\n",
       "      <td>66.16</td>\n",
       "      <td>1.275023</td>\n",
       "      <td>0.302919</td>\n",
       "      <td>0.718901</td>\n",
       "      <td>0.523126</td>\n",
       "      <td>174.92</td>\n",
       "      <td>1.231145</td>\n",
       "      <td>0.415112</td>\n",
       "      <td>large</td>\n",
       "      <td>1</td>\n",
       "      <td>0</td>\n",
       "      <td>0</td>\n",
       "    </tr>\n",
       "    <tr>\n",
       "      <th>2</th>\n",
       "      <td>170.36</td>\n",
       "      <td>NaN</td>\n",
       "      <td>0.108928</td>\n",
       "      <td>NaN</td>\n",
       "      <td>0.534733</td>\n",
       "      <td>NaN</td>\n",
       "      <td>170.36</td>\n",
       "      <td>0.097869</td>\n",
       "      <td>0.308769</td>\n",
       "      <td>standard</td>\n",
       "      <td>0</td>\n",
       "      <td>0</td>\n",
       "      <td>1</td>\n",
       "    </tr>\n",
       "    <tr>\n",
       "      <th>3</th>\n",
       "      <td>174.20</td>\n",
       "      <td>64.36</td>\n",
       "      <td>1.090903</td>\n",
       "      <td>-0.145195</td>\n",
       "      <td>0.689822</td>\n",
       "      <td>0.451356</td>\n",
       "      <td>174.20</td>\n",
       "      <td>1.052207</td>\n",
       "      <td>0.398321</td>\n",
       "      <td>large</td>\n",
       "      <td>1</td>\n",
       "      <td>0</td>\n",
       "      <td>0</td>\n",
       "    </tr>\n",
       "    <tr>\n",
       "      <th>4</th>\n",
       "      <td>172.88</td>\n",
       "      <td>55.20</td>\n",
       "      <td>0.753349</td>\n",
       "      <td>-2.425595</td>\n",
       "      <td>0.636511</td>\n",
       "      <td>0.086124</td>\n",
       "      <td>172.88</td>\n",
       "      <td>0.724153</td>\n",
       "      <td>0.367537</td>\n",
       "      <td>standard</td>\n",
       "      <td>0</td>\n",
       "      <td>0</td>\n",
       "      <td>1</td>\n",
       "    </tr>\n",
       "    <tr>\n",
       "      <th>...</th>\n",
       "      <td>...</td>\n",
       "      <td>...</td>\n",
       "      <td>...</td>\n",
       "      <td>...</td>\n",
       "      <td>...</td>\n",
       "      <td>...</td>\n",
       "      <td>...</td>\n",
       "      <td>...</td>\n",
       "      <td>...</td>\n",
       "      <td>...</td>\n",
       "      <td>...</td>\n",
       "      <td>...</td>\n",
       "      <td>...</td>\n",
       "    </tr>\n",
       "    <tr>\n",
       "      <th>995</th>\n",
       "      <td>172.20</td>\n",
       "      <td>73.24</td>\n",
       "      <td>0.579458</td>\n",
       "      <td>2.065499</td>\n",
       "      <td>0.609047</td>\n",
       "      <td>0.805423</td>\n",
       "      <td>172.20</td>\n",
       "      <td>0.555156</td>\n",
       "      <td>0.351679</td>\n",
       "      <td>standard</td>\n",
       "      <td>0</td>\n",
       "      <td>0</td>\n",
       "      <td>1</td>\n",
       "    </tr>\n",
       "    <tr>\n",
       "      <th>996</th>\n",
       "      <td>171.28</td>\n",
       "      <td>63.52</td>\n",
       "      <td>0.344193</td>\n",
       "      <td>-0.354314</td>\n",
       "      <td>0.571890</td>\n",
       "      <td>0.417863</td>\n",
       "      <td>171.28</td>\n",
       "      <td>0.326513</td>\n",
       "      <td>0.330224</td>\n",
       "      <td>standard</td>\n",
       "      <td>0</td>\n",
       "      <td>0</td>\n",
       "      <td>1</td>\n",
       "    </tr>\n",
       "    <tr>\n",
       "      <th>997</th>\n",
       "      <td>167.88</td>\n",
       "      <td>61.80</td>\n",
       "      <td>-0.525265</td>\n",
       "      <td>-0.782512</td>\n",
       "      <td>0.434572</td>\n",
       "      <td>0.349282</td>\n",
       "      <td>167.88</td>\n",
       "      <td>-0.518474</td>\n",
       "      <td>0.250933</td>\n",
       "      <td>standard</td>\n",
       "      <td>0</td>\n",
       "      <td>0</td>\n",
       "      <td>1</td>\n",
       "    </tr>\n",
       "    <tr>\n",
       "      <th>998</th>\n",
       "      <td>177.44</td>\n",
       "      <td>67.32</td>\n",
       "      <td>1.919445</td>\n",
       "      <td>0.591703</td>\n",
       "      <td>0.820679</td>\n",
       "      <td>0.569378</td>\n",
       "      <td>177.44</td>\n",
       "      <td>1.857429</td>\n",
       "      <td>0.473881</td>\n",
       "      <td>large</td>\n",
       "      <td>1</td>\n",
       "      <td>0</td>\n",
       "      <td>0</td>\n",
       "    </tr>\n",
       "    <tr>\n",
       "      <th>999</th>\n",
       "      <td>176.68</td>\n",
       "      <td>73.12</td>\n",
       "      <td>1.725095</td>\n",
       "      <td>2.035625</td>\n",
       "      <td>0.789984</td>\n",
       "      <td>0.800638</td>\n",
       "      <td>176.68</td>\n",
       "      <td>1.668550</td>\n",
       "      <td>0.456157</td>\n",
       "      <td>large</td>\n",
       "      <td>1</td>\n",
       "      <td>0</td>\n",
       "      <td>0</td>\n",
       "    </tr>\n",
       "  </tbody>\n",
       "</table>\n",
       "<p>1000 rows × 13 columns</p>\n",
       "</div>"
      ],
      "text/plain": [
       "     height  weight      h_sc      w_sc    h_mima    w_mima  height_1  \\\n",
       "0    167.84   59.72 -0.535494 -1.300332  0.432956  0.266348    200.00   \n",
       "1    174.92   66.16  1.275023  0.302919  0.718901  0.523126    174.92   \n",
       "2    170.36     NaN  0.108928       NaN  0.534733       NaN    170.36   \n",
       "3    174.20   64.36  1.090903 -0.145195  0.689822  0.451356    174.20   \n",
       "4    172.88   55.20  0.753349 -2.425595  0.636511  0.086124    172.88   \n",
       "..      ...     ...       ...       ...       ...       ...       ...   \n",
       "995  172.20   73.24  0.579458  2.065499  0.609047  0.805423    172.20   \n",
       "996  171.28   63.52  0.344193 -0.354314  0.571890  0.417863    171.28   \n",
       "997  167.88   61.80 -0.525265 -0.782512  0.434572  0.349282    167.88   \n",
       "998  177.44   67.32  1.919445  0.591703  0.820679  0.569378    177.44   \n",
       "999  176.68   73.12  1.725095  2.035625  0.789984  0.800638    176.68   \n",
       "\n",
       "       h_1_sc  h_1_mima      tall  large  small  standard  \n",
       "0    7.464161  1.000000  standard      0      0         1  \n",
       "1    1.231145  0.415112     large      1      0         0  \n",
       "2    0.097869  0.308769  standard      0      0         1  \n",
       "3    1.052207  0.398321     large      1      0         0  \n",
       "4    0.724153  0.367537  standard      0      0         1  \n",
       "..        ...       ...       ...    ...    ...       ...  \n",
       "995  0.555156  0.351679  standard      0      0         1  \n",
       "996  0.326513  0.330224  standard      0      0         1  \n",
       "997 -0.518474  0.250933  standard      0      0         1  \n",
       "998  1.857429  0.473881     large      1      0         0  \n",
       "999  1.668550  0.456157     large      1      0         0  \n",
       "\n",
       "[1000 rows x 13 columns]"
      ]
     },
     "execution_count": 86,
     "metadata": {},
     "output_type": "execute_result"
    }
   ],
   "source": [
    "# dummy 변수 합치기 (가로방향)\n",
    "df_all = pd.concat((df, df_tail), axis=1)\n",
    "df_all"
   ]
  },
  {
   "cell_type": "markdown",
   "id": "34200d12",
   "metadata": {},
   "source": [
    "## 최종 사용 데이터 선택\n",
    "- 여러 전처리된 데이터 컬럼 중에서 필요한 부부만 선택하여 최종 분석에 사용"
   ]
  },
  {
   "cell_type": "code",
   "execution_count": 87,
   "id": "e8469e42",
   "metadata": {},
   "outputs": [
    {
     "data": {
      "text/html": [
       "<div>\n",
       "<style scoped>\n",
       "    .dataframe tbody tr th:only-of-type {\n",
       "        vertical-align: middle;\n",
       "    }\n",
       "\n",
       "    .dataframe tbody tr th {\n",
       "        vertical-align: top;\n",
       "    }\n",
       "\n",
       "    .dataframe thead th {\n",
       "        text-align: right;\n",
       "    }\n",
       "</style>\n",
       "<table border=\"1\" class=\"dataframe\">\n",
       "  <thead>\n",
       "    <tr style=\"text-align: right;\">\n",
       "      <th></th>\n",
       "      <th>h_sc</th>\n",
       "      <th>w_sc</th>\n",
       "      <th>large</th>\n",
       "      <th>small</th>\n",
       "      <th>standard</th>\n",
       "    </tr>\n",
       "  </thead>\n",
       "  <tbody>\n",
       "    <tr>\n",
       "      <th>0</th>\n",
       "      <td>-0.535494</td>\n",
       "      <td>-1.300332</td>\n",
       "      <td>0</td>\n",
       "      <td>0</td>\n",
       "      <td>1</td>\n",
       "    </tr>\n",
       "    <tr>\n",
       "      <th>1</th>\n",
       "      <td>1.275023</td>\n",
       "      <td>0.302919</td>\n",
       "      <td>1</td>\n",
       "      <td>0</td>\n",
       "      <td>0</td>\n",
       "    </tr>\n",
       "    <tr>\n",
       "      <th>2</th>\n",
       "      <td>0.108928</td>\n",
       "      <td>NaN</td>\n",
       "      <td>0</td>\n",
       "      <td>0</td>\n",
       "      <td>1</td>\n",
       "    </tr>\n",
       "    <tr>\n",
       "      <th>3</th>\n",
       "      <td>1.090903</td>\n",
       "      <td>-0.145195</td>\n",
       "      <td>1</td>\n",
       "      <td>0</td>\n",
       "      <td>0</td>\n",
       "    </tr>\n",
       "    <tr>\n",
       "      <th>4</th>\n",
       "      <td>0.753349</td>\n",
       "      <td>-2.425595</td>\n",
       "      <td>0</td>\n",
       "      <td>0</td>\n",
       "      <td>1</td>\n",
       "    </tr>\n",
       "  </tbody>\n",
       "</table>\n",
       "</div>"
      ],
      "text/plain": [
       "       h_sc      w_sc  large  small  standard\n",
       "0 -0.535494 -1.300332      0      0         1\n",
       "1  1.275023  0.302919      1      0         0\n",
       "2  0.108928       NaN      0      0         1\n",
       "3  1.090903 -0.145195      1      0         0\n",
       "4  0.753349 -2.425595      0      0         1"
      ]
     },
     "execution_count": 87,
     "metadata": {},
     "output_type": "execute_result"
    }
   ],
   "source": [
    "# 분석에 사용할 컬럼 : 표준스케일링, 원한인코딩 컬럼\n",
    "X = df_all[['h_sc', 'w_sc', 'large', 'small', 'standard']]\n",
    "X[:5]"
   ]
  },
  {
   "cell_type": "markdown",
   "id": "2086b9d4",
   "metadata": {},
   "source": [
    "### 정리\n",
    "**원핫 인코딩 방식은 일반적으로 많이 사용하는 방식이지만, 피처가 너무 많아지면 차원이 늘어나서 모델의 성능이 떨어짐**"
   ]
  },
  {
   "cell_type": "code",
   "execution_count": null,
   "id": "ab283ad2",
   "metadata": {},
   "outputs": [],
   "source": []
  },
  {
   "cell_type": "code",
   "execution_count": null,
   "id": "759be188",
   "metadata": {},
   "outputs": [],
   "source": []
  },
  {
   "cell_type": "code",
   "execution_count": null,
   "id": "40ad672f",
   "metadata": {},
   "outputs": [],
   "source": []
  }
 ],
 "metadata": {
  "kernelspec": {
   "display_name": "Python 3",
   "language": "python",
   "name": "python3"
  },
  "language_info": {
   "codemirror_mode": {
    "name": "ipython",
    "version": 3
   },
   "file_extension": ".py",
   "mimetype": "text/x-python",
   "name": "python",
   "nbconvert_exporter": "python",
   "pygments_lexer": "ipython3",
   "version": "3.8.8"
  }
 },
 "nbformat": 4,
 "nbformat_minor": 5
}
