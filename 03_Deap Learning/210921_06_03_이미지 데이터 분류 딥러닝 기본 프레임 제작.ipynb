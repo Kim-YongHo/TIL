{
 "cells": [
  {
   "cell_type": "markdown",
   "id": "d6a0e6d2",
   "metadata": {},
   "source": [
    "## 이미지 데이터 분류 : MNIST - 딥러닝 기본 프레임 만들기"
   ]
  },
  {
   "cell_type": "markdown",
   "id": "653f6043",
   "metadata": {},
   "source": [
    "딥러닝 모델 구현  \n",
    "(1) 모델 설정  \n",
    "(2) 모델 컴파일  \n",
    "(3) 모델 실행(학습)  \n",
    "(4) 모델 평가\n",
    "\n",
    "ModelCheckpoint() : 모델 성과 저장/로드   \n",
    "EarlyStopping : 모델 최적화 단계에서 학습 자동 중단 설정     \n",
    "모델 저장/로드"
   ]
  },
  {
   "cell_type": "code",
   "execution_count": 1,
   "id": "48db048d",
   "metadata": {},
   "outputs": [],
   "source": [
    "# 이미지 데이터 로드 및 전처리\n",
    "\n",
    "from keras.datasets import mnist\n",
    "from tensorflow.keras.utils import to_categorical\n",
    "\n",
    "(X_train, Y_train), (X_test, Y_test) = mnist.load_data()\n",
    "\n",
    "# 정규화\n",
    "X_train = X_train.reshape(X_train.shape[0], 784).astype('float32') / 255\n",
    "X_test = X_test.reshape(X_test.shape[0], 784).astype('float32') / 255\n",
    "\n",
    "# 원-핫 인코딩 (바이너리화)\n",
    "Y_train = to_categorical(Y_train, 10)\n",
    "Y_test = to_categorical(Y_test, 10)\n"
   ]
  },
  {
   "cell_type": "markdown",
   "id": "bac661ca",
   "metadata": {},
   "source": [
    "**딥러닝 적용 (프레임 설정)**"
   ]
  },
  {
   "cell_type": "code",
   "execution_count": 2,
   "id": "755b1658",
   "metadata": {},
   "outputs": [],
   "source": [
    "from tensorflow.keras.models import Sequential\n",
    "from tensorflow.keras.layers import Dense\n",
    "\n",
    "\n",
    "# (1) 모델 설정\n",
    "model = Sequential()\n",
    "model.add(Dense(512, input_dim=784, activation='relu'))\n",
    "model.add(Dense(10, activation='softmax')) # 이진 분류가 불가능하서 소프트 맥스 사용"
   ]
  },
  {
   "cell_type": "markdown",
   "id": "6a4671ae",
   "metadata": {},
   "source": [
    "##### 활성화 함수\n",
    "- 은닉층 : relu\n",
    "- 출력층 : softmax\n",
    "\n",
    "    - relu 함수\n",
    "        - x가 0보다 작을 때는 모든 값을 0으로 처리하고\n",
    "        - 0보다 클 때는 x를 그대로 사용\n",
    "\n",
    "    - softmax 함수 \n",
    "        - 3개 이상으로 분류하는 다중 클래스 분류에서 사용하는 활성화 함수\n"
   ]
  },
  {
   "cell_type": "code",
   "execution_count": 3,
   "id": "49a72f00",
   "metadata": {},
   "outputs": [],
   "source": [
    "# (2) 모델 컴파일\n",
    "model.compile(loss='categorical_crossentropy',\n",
    "              optimizer='adam',\n",
    "              metrics=['accuracy'])\n",
    "\n",
    "# 손실 함수(오차 함수) : categorical_crossentropy\n",
    "# 최적화 알고리즘 : adam \n",
    "# Adam(Adaptive Moment Estimation)\n",
    "# 각 파라미터마다 다른 크기의 업데이트를 적용하는 방법\n"
   ]
  },
  {
   "cell_type": "markdown",
   "id": "c8fdb5ed",
   "metadata": {},
   "source": [
    "##### 모델 성과 저장\n",
    "- 모델 최적화 단계에서 학습 자동 중단\n",
    "- 10회 이상모델의 성과 향상이 없으면 자동으로 학습을 중단"
   ]
  },
  {
   "cell_type": "code",
   "execution_count": 4,
   "id": "2e05be52",
   "metadata": {},
   "outputs": [],
   "source": [
    "from tensorflow.keras.callbacks import ModelCheckpoint, EarlyStopping\n",
    "import os"
   ]
  },
  {
   "cell_type": "code",
   "execution_count": 5,
   "id": "1d7d9343",
   "metadata": {},
   "outputs": [],
   "source": [
    "# 모델 저장할 디렉터리 생성\n",
    "# 현재 디렉터리에 model 디렉터리 생성\n",
    "# 존재하지 않으면 생성\n",
    "\n",
    "MODEL_DIR = './model/'\n",
    "\n",
    "if not os.path.exists(MODEL_DIR):\n",
    "    os.mkdir(MODEL_DIR)"
   ]
  },
  {
   "cell_type": "code",
   "execution_count": 6,
   "id": "fc9716b6",
   "metadata": {},
   "outputs": [],
   "source": [
    "modelpath=\"./model/{epoch:02d}-{val_loss:.4f}.hdf5\""
   ]
  },
  {
   "cell_type": "code",
   "execution_count": 7,
   "id": "58c4952e",
   "metadata": {},
   "outputs": [],
   "source": [
    "checkpointer = ModelCheckpoint(filepath=modelpath, \n",
    "                               monitor='val_loss', \n",
    "                               verboose=1, #verbose:설명\n",
    "                               save_best_only=True)"
   ]
  },
  {
   "cell_type": "code",
   "execution_count": 8,
   "id": "a3ee6633",
   "metadata": {},
   "outputs": [],
   "source": [
    "# 10회 이상 모델의 성과 향상이 없으면 자동으로 학습을 중단\n",
    "early_stopping_callback = EarlyStopping(monitor='val_loss', patience=10) # 10번도 동안 향상 효과가 없으면 중단"
   ]
  },
  {
   "cell_type": "code",
   "execution_count": null,
   "id": "bd0cf0b2",
   "metadata": {},
   "outputs": [
    {
     "name": "stdout",
     "output_type": "stream",
     "text": [
      "Epoch 1/30\n",
      "300/300 [==============================] - 1s 3ms/step - loss: 0.3010 - accuracy: 0.9165 - val_loss: 0.1525 - val_accuracy: 0.9566\n",
      "Epoch 2/30\n",
      "300/300 [==============================] - 1s 2ms/step - loss: 0.1261 - accuracy: 0.9640 - val_loss: 0.1096 - val_accuracy: 0.9673\n",
      "Epoch 3/30\n",
      "300/300 [==============================] - 1s 2ms/step - loss: 0.0835 - accuracy: 0.9760 - val_loss: 0.0840 - val_accuracy: 0.9733\n",
      "Epoch 4/30\n",
      "217/300 [====================>.........] - ETA: 0s - loss: 0.0602 - accuracy: 0.9834"
     ]
    }
   ],
   "source": [
    "# (3) 모델 실행 (학습)\n",
    "# 새로운 콜백 사용해서 모델 훈련\n",
    "history = model.fit(X_train, Y_train, \n",
    "                    validation_data=(X_test, Y_test), \n",
    "                    epochs=30, \n",
    "                    batch_size=200,\n",
    "                    #verbose=1,\n",
    "                    callbacks=[early_stopping_callback, checkpointer])"
   ]
  },
  {
   "cell_type": "code",
   "execution_count": 42,
   "id": "5115438b",
   "metadata": {},
   "outputs": [
    {
     "name": "stdout",
     "output_type": "stream",
     "text": [
      "313/313 [==============================] - 0s 952us/step - loss: 0.0660 - accuracy: 0.9813\n",
      "\n",
      " Test Accuracy: 0.9813\n"
     ]
    }
   ],
   "source": [
    "# (4) 모델 평가\n",
    "# 테스트 정확도 출력\n",
    "print(\"\\n Test Accuracy: %.4f\" % (model.evaluate(X_test, Y_test)[1]))\n"
   ]
  },
  {
   "cell_type": "code",
   "execution_count": 43,
   "id": "7beaf6d2",
   "metadata": {},
   "outputs": [
    {
     "data": {
      "image/png": "[encoded data removed]",
      "text/plain": [
       "<Figure size 432x288 with 1 Axes>"
      ]
     },
     "metadata": {
      "needs_background": "light"
     },
     "output_type": "display_data"
    }
   ],
   "source": [
    "# val_loss와 loss 그래프로 표현\n",
    "\n",
    "import matplotlib.pyplot as plt\n",
    "import numpy\n",
    "\n",
    "# 테스트 셋의 오차\n",
    "y_vloss = history.history['val_loss']\n",
    "\n",
    "# 학습셋의 오차\n",
    "y_loss = history.history['loss']\n",
    "\n",
    "# 그래프로 표현\n",
    "x_len = numpy.arange(len(y_loss))\n",
    "plt.plot(x_len, y_vloss, marker='.', c=\"red\", label='TrainVal_loss')\n",
    "plt.plot(x_len, y_loss, marker='.', c=\"blue\", label='Trainset_loss')\n",
    "\n",
    "# 그래프에 그리드를 주고 레이블을 표시\n",
    "plt.legend(loc='upper right')\n",
    "# plt.axis([0, 20, 0, 0.35])\n",
    "plt.grid()\n",
    "plt.xlabel('epoch')\n",
    "plt.ylabel('loss')\n",
    "plt.show()\n"
   ]
  },
  {
   "cell_type": "markdown",
   "id": "e9a5ea61",
   "metadata": {},
   "source": [
    "#### 모델 저장"
   ]
  },
  {
   "cell_type": "markdown",
   "id": "ffa545bc",
   "metadata": {},
   "source": [
    "1. 모델 가중치 저장\n",
    "- model.save_weights(경로 및 이름)\n",
    "2. 모델 저장\n",
    "- model.save(경로 및 이름)\n",
    "3. 모델 가중치 load\n",
    "- model.load_weights(경로 및 이름)\n",
    "4. 모델 load\n",
    "- load_model(경로 및 이름)"
   ]
  },
  {
   "cell_type": "code",
   "execution_count": 20,
   "id": "feb9e445",
   "metadata": {},
   "outputs": [],
   "source": [
    "model.save_weights('./model/my_weights')"
   ]
  },
  {
   "cell_type": "code",
   "execution_count": 21,
   "id": "032f08f5",
   "metadata": {},
   "outputs": [
    {
     "data": {
      "text/plain": [
       "<tensorflow.python.training.tracking.util.CheckpointLoadStatus at 0x185183a31f0>"
      ]
     },
     "execution_count": 21,
     "metadata": {},
     "output_type": "execute_result"
    }
   ],
   "source": [
    "model.load_weights('./model/my_weights')"
   ]
  },
  {
   "cell_type": "code",
   "execution_count": 22,
   "id": "416b2512",
   "metadata": {},
   "outputs": [
    {
     "name": "stdout",
     "output_type": "stream",
     "text": [
      "313/313 [==============================] - 0s 999us/step - loss: 0.0661 - accuracy: 0.9829\n"
     ]
    }
   ],
   "source": [
    "loss, acc = model.evaluate(X_test, Y_test)"
   ]
  },
  {
   "cell_type": "code",
   "execution_count": 23,
   "id": "6097cb38",
   "metadata": {},
   "outputs": [
    {
     "name": "stdout",
     "output_type": "stream",
     "text": [
      "INFO:tensorflow:Assets written to: model/my_model\\assets\n"
     ]
    }
   ],
   "source": [
    "# 전체 모델 저장 및 load\n",
    "from tensorflow.keras.models import load_model\n",
    "\n",
    "# 모델 저장\n",
    "model.save('model/my_model')\n"
   ]
  },
  {
   "cell_type": "code",
   "execution_count": 24,
   "id": "053302aa",
   "metadata": {},
   "outputs": [],
   "source": [
    "modelFin = load_model('model/my_model')"
   ]
  },
  {
   "cell_type": "code",
   "execution_count": 25,
   "id": "d514a7ae",
   "metadata": {},
   "outputs": [
    {
     "name": "stdout",
     "output_type": "stream",
     "text": [
      "313/313 [==============================] - 0s 738us/step - loss: 0.0661 - accuracy: 0.9829\n"
     ]
    }
   ],
   "source": [
    "loss, acc = modelFin.evaluate(X_test, Y_test)"
   ]
  },
  {
   "cell_type": "code",
   "execution_count": 27,
   "id": "483c4d39",
   "metadata": {},
   "outputs": [],
   "source": [
    "modelChk = load_model('model/01-0.1508.hdf5')"
   ]
  },
  {
   "cell_type": "code",
   "execution_count": 28,
   "id": "f2f6a312",
   "metadata": {},
   "outputs": [
    {
     "name": "stdout",
     "output_type": "stream",
     "text": [
      "313/313 [==============================] - 0s 736us/step - loss: 0.1508 - accuracy: 0.9567\n"
     ]
    }
   ],
   "source": [
    "loss, acc = modelChk.evaluate(X_test, Y_test)"
   ]
  },
  {
   "cell_type": "markdown",
   "id": "fbaab39d",
   "metadata": {},
   "source": [
    "**보통 모델은 hdfs5 or h5로 저장함**"
   ]
  },
  {
   "cell_type": "code",
   "execution_count": null,
   "id": "a6c927ae",
   "metadata": {},
   "outputs": [],
   "source": []
  },
  {
   "cell_type": "code",
   "execution_count": null,
   "id": "812166b8",
   "metadata": {},
   "outputs": [],
   "source": []
  }
 ],
 "metadata": {
  "kernelspec": {
   "display_name": "Python 3",
   "language": "python",
   "name": "python3"
  },
  "language_info": {
   "codemirror_mode": {
    "name": "ipython",
    "version": 3
   },
   "file_extension": ".py",
   "mimetype": "text/x-python",
   "name": "python",
   "nbconvert_exporter": "python",
   "pygments_lexer": "ipython3",
   "version": "3.8.8"
  }
 },
 "nbformat": 4,
 "nbformat_minor": 5
}
