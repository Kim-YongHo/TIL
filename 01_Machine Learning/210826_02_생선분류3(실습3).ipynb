{
 "cells": [
  {
   "cell_type": "code",
   "execution_count": 2,
   "id": "e7931eda",
   "metadata": {},
   "outputs": [],
   "source": [
    "import pandas as pd\n",
    "import numpy as np\n",
    "import seaborn as sns"
   ]
  },
  {
   "cell_type": "code",
   "execution_count": 3,
   "id": "66d3c080",
   "metadata": {},
   "outputs": [],
   "source": [
    "#그래프 패키지 \n",
    "import matplotlib.pyplot as plt \n",
    "%matplotlib inline "
   ]
  },
  {
   "cell_type": "code",
   "execution_count": 4,
   "id": "4dda5d53",
   "metadata": {},
   "outputs": [],
   "source": [
    "# 동시 출력\n",
    "from IPython.core.interactiveshell import InteractiveShell\n",
    "InteractiveShell.ast_node_interactivity=\"all\""
   ]
  },
  {
   "cell_type": "code",
   "execution_count": 5,
   "id": "56282003",
   "metadata": {},
   "outputs": [],
   "source": [
    "# 한글 문제 해결\n",
    "import platform\n",
    "\n",
    "from matplotlib import font_manager, rc\n",
    "plt.rcParams['axes.unicode_minus'] = False\n",
    "\n",
    "if platform.system() == 'Darwin':  # 맥OS \n",
    "    rc('font', family='AppleGothic')\n",
    "elif platform.system() == 'Windows':  # 윈도우\n",
    "    path = \"c:/Windows/Fonts/malgun.ttf\"\n",
    "    font_name = font_manager.FontProperties(fname=path).get_name()\n",
    "    rc('font', family=font_name)\n",
    "else:\n",
    "    print('Unknown system...  sorry~~~')# 한글 문제 해결\n",
    "import platform\n",
    "\n",
    "from matplotlib import font_manager, rc\n",
    "plt.rcParams['axes.unicode_minus'] = False\n",
    "\n",
    "if platform.system() == 'Darwin':  # 맥OS \n",
    "    rc('font', family='AppleGothic')\n",
    "elif platform.system() == 'Windows':  # 윈도우\n",
    "    path = \"c:/Windows/Fonts/malgun.ttf\"\n",
    "    font_name = font_manager.FontProperties(fname=path).get_name()\n",
    "    rc('font', family=font_name)\n",
    "else:\n",
    "    print('Unknown system...  sorry~~~')"
   ]
  },
  {
   "cell_type": "code",
   "execution_count": 6,
   "id": "b2bf9787",
   "metadata": {},
   "outputs": [],
   "source": [
    "fish_length = [25.4, 26.3, 26.5, 29.0, 29.0, 29.7, 29.7, 30.0, 30.0, 30.7, 31.0, 31.0, \n",
    "                31.5, 32.0, 32.0, 32.0, 33.0, 33.0, 33.5, 33.5, 34.0, 34.0, 34.5, 35.0, \n",
    "                35.0, 35.0, 35.0, 36.0, 36.0, 37.0, 38.5, 38.5, 39.5, 41.0, 41.0, 9.8, \n",
    "                10.5, 10.6, 11.0, 11.2, 11.3, 11.8, 11.8, 12.0, 12.2, 12.4, 13.0, 14.3, 15.0]\n",
    "fish_weight = [242.0, 290.0, 340.0, 363.0, 430.0, 450.0, 500.0, 390.0, 450.0, 500.0, 475.0, 500.0, \n",
    "                500.0, 340.0, 600.0, 600.0, 700.0, 700.0, 610.0, 650.0, 575.0, 685.0, 620.0, 680.0, \n",
    "                700.0, 725.0, 720.0, 714.0, 850.0, 1000.0, 920.0, 955.0, 925.0, 975.0, 950.0, 6.7, \n",
    "                7.5, 7.0, 9.7, 9.8, 8.7, 10.0, 9.9, 9.8, 12.2, 13.4, 12.2, 19.7, 19.9]\n"
   ]
  },
  {
   "cell_type": "code",
   "execution_count": null,
   "id": "073572c9",
   "metadata": {},
   "outputs": [],
   "source": [
    "####  두 리스트 열 방향으로 합치기 : 2차원 배열"
   ]
  },
  {
   "cell_type": "code",
   "execution_count": 8,
   "id": "63134e60",
   "metadata": {},
   "outputs": [],
   "source": [
    "fish_data = np.column_stack((fish_length, fish_weight))"
   ]
  },
  {
   "cell_type": "code",
   "execution_count": 9,
   "id": "fc0cead2",
   "metadata": {},
   "outputs": [
    {
     "data": {
      "text/plain": [
       "array([[ 25.4, 242. ],\n",
       "       [ 26.3, 290. ],\n",
       "       [ 26.5, 340. ],\n",
       "       [ 29. , 363. ],\n",
       "       [ 29. , 430. ]])"
      ]
     },
     "execution_count": 9,
     "metadata": {},
     "output_type": "execute_result"
    }
   ],
   "source": [
    "fish_data[:5]"
   ]
  },
  {
   "cell_type": "markdown",
   "id": "9692c8c3",
   "metadata": {},
   "source": [
    "**라벨 데이터**"
   ]
  },
  {
   "cell_type": "code",
   "execution_count": 12,
   "id": "9d39da6f",
   "metadata": {},
   "outputs": [
    {
     "data": {
      "text/plain": [
       "array([1., 1., 1., 1., 1., 1., 1., 1., 1., 1., 1., 1., 1., 1., 1., 1., 1.,\n",
       "       1., 1., 1., 1., 1., 1., 1., 1., 1., 1., 1., 1., 1., 1., 1., 1., 1.,\n",
       "       1.])"
      ]
     },
     "execution_count": 12,
     "metadata": {},
     "output_type": "execute_result"
    },
    {
     "data": {
      "text/plain": [
       "array([0., 0., 0., 0., 0., 0., 0., 0., 0., 0., 0., 0., 0., 0.])"
      ]
     },
     "execution_count": 12,
     "metadata": {},
     "output_type": "execute_result"
    }
   ],
   "source": [
    "np.ones(35) # 1값을 35개\n",
    "np.zeros(14) # 0값을 14개"
   ]
  },
  {
   "cell_type": "code",
   "execution_count": 15,
   "id": "62c4634a",
   "metadata": {},
   "outputs": [],
   "source": [
    "fish_target = np.concatenate((np.ones(35), np.zeros(14))) # 튜플 형태로 보내줘야 함"
   ]
  },
  {
   "cell_type": "code",
   "execution_count": 16,
   "id": "e80291b2",
   "metadata": {},
   "outputs": [
    {
     "data": {
      "text/plain": [
       "array([1., 1., 1., 1., 1., 1., 1., 1., 1., 1., 1., 1., 1., 1., 1., 1., 1.,\n",
       "       1., 1., 1., 1., 1., 1., 1., 1., 1., 1., 1., 1., 1., 1., 1., 1., 1.,\n",
       "       1., 0., 0., 0., 0., 0., 0., 0., 0., 0., 0., 0., 0., 0., 0.])"
      ]
     },
     "execution_count": 16,
     "metadata": {},
     "output_type": "execute_result"
    }
   ],
   "source": [
    "fish_target"
   ]
  },
  {
   "cell_type": "markdown",
   "id": "f5db20b0",
   "metadata": {},
   "source": [
    "## 사이킷런으로  훈련 데이터와 테스트 데이터 나누기"
   ]
  },
  {
   "cell_type": "code",
   "execution_count": 17,
   "id": "ce9d938f",
   "metadata": {},
   "outputs": [],
   "source": [
    "from sklearn.model_selection import train_test_split"
   ]
  },
  {
   "cell_type": "markdown",
   "id": "e476b95f",
   "metadata": {},
   "source": [
    "train_test_split(매개변수)\n",
    "\n",
    "- *array : feature dataset, label dataset (필수 변수 ) (주소가 있는 변수를 의미)\n",
    "- shuffle = True\n",
    "- random_state = None => 대부분 설정하게 됨\n",
    "- stratify = None => 기준 데이터 설정"
   ]
  },
  {
   "cell_type": "code",
   "execution_count": 19,
   "id": "47317653",
   "metadata": {},
   "outputs": [],
   "source": [
    "train_input, test_input, train_target, test_target = train_test_split(fish_data, \n",
    "                                                                      fish_target,\n",
    "                                                                      random_state=42)"
   ]
  },
  {
   "cell_type": "code",
   "execution_count": 21,
   "id": "5d19f498",
   "metadata": {},
   "outputs": [
    {
     "data": {
      "text/plain": [
       "(13, 2)"
      ]
     },
     "execution_count": 21,
     "metadata": {},
     "output_type": "execute_result"
    },
    {
     "data": {
      "text/plain": [
       "(36, 2)"
      ]
     },
     "execution_count": 21,
     "metadata": {},
     "output_type": "execute_result"
    }
   ],
   "source": [
    "test_input.shape\n",
    "train_input.shape"
   ]
  },
  {
   "cell_type": "code",
   "execution_count": 23,
   "id": "3132b429",
   "metadata": {},
   "outputs": [
    {
     "data": {
      "text/plain": [
       "(13,)"
      ]
     },
     "execution_count": 23,
     "metadata": {},
     "output_type": "execute_result"
    },
    {
     "data": {
      "text/plain": [
       "(36,)"
      ]
     },
     "execution_count": 23,
     "metadata": {},
     "output_type": "execute_result"
    }
   ],
   "source": [
    "test_target.shape\n",
    "train_target.shape"
   ]
  },
  {
   "cell_type": "code",
   "execution_count": 24,
   "id": "0503184a",
   "metadata": {},
   "outputs": [
    {
     "name": "stdout",
     "output_type": "stream",
     "text": [
      "1.0    35\n",
      "0.0    14\n",
      "dtype: int64\n",
      "1.0    10\n",
      "0.0     3\n",
      "dtype: int64\n"
     ]
    }
   ],
   "source": [
    "print(pd.Series(fish_target).value_counts())\n",
    "print(pd.Series(test_target).value_counts())"
   ]
  },
  {
   "cell_type": "markdown",
   "id": "08d21563",
   "metadata": {},
   "source": [
    "**데이터 분포를 명시적으로 반영시킨 분할 :** (stratify = None => 기준 데이터 설정 기준점 지정)"
   ]
  },
  {
   "cell_type": "markdown",
   "id": "238e6bf0",
   "metadata": {},
   "source": []
  },
  {
   "cell_type": "code",
   "execution_count": 25,
   "id": "83a9aea7",
   "metadata": {},
   "outputs": [],
   "source": [
    "train_input, test_input, train_target, test_target = train_test_split(fish_data, \n",
    "                                                                      fish_target,\n",
    "                                                                      stratify = fish_target, # fishtarget에 있는 0과 1의 분포 고려\n",
    "                                                                      random_state=42)"
   ]
  },
  {
   "cell_type": "code",
   "execution_count": 26,
   "id": "326ac30d",
   "metadata": {},
   "outputs": [
    {
     "name": "stdout",
     "output_type": "stream",
     "text": [
      "1.0    35\n",
      "0.0    14\n",
      "dtype: int64\n",
      "1.0    9\n",
      "0.0    4\n",
      "dtype: int64\n"
     ]
    }
   ],
   "source": [
    "print(pd.Series(fish_target).value_counts())\n",
    "print(pd.Series(test_target).value_counts())"
   ]
  },
  {
   "cell_type": "markdown",
   "id": "5abfe5a7",
   "metadata": {},
   "source": [
    "## 성능 평가 및 테스트"
   ]
  },
  {
   "cell_type": "code",
   "execution_count": 27,
   "id": "28b992db",
   "metadata": {},
   "outputs": [
    {
     "data": {
      "text/plain": [
       "KNeighborsClassifier()"
      ]
     },
     "execution_count": 27,
     "metadata": {},
     "output_type": "execute_result"
    },
    {
     "data": {
      "text/plain": [
       "1.0"
      ]
     },
     "execution_count": 27,
     "metadata": {},
     "output_type": "execute_result"
    }
   ],
   "source": [
    "from sklearn.neighbors import KNeighborsClassifier\n",
    "\n",
    "kn = KNeighborsClassifier()\n",
    "kn.fit(train_input, train_target)\n",
    "kn.score(test_input, test_target)\n"
   ]
  },
  {
   "cell_type": "markdown",
   "id": "b384aad7",
   "metadata": {},
   "source": [
    "### 도미 데이터 : 길이 25, 무게 150에 대한 분류 결과는?"
   ]
  },
  {
   "cell_type": "code",
   "execution_count": 29,
   "id": "380353cd",
   "metadata": {},
   "outputs": [
    {
     "data": {
      "text/plain": [
       "array([0.])"
      ]
     },
     "execution_count": 29,
     "metadata": {},
     "output_type": "execute_result"
    }
   ],
   "source": [
    "kn.predict([[25,150]]) #빙어로 분류"
   ]
  },
  {
   "cell_type": "markdown",
   "id": "a84a716c",
   "metadata": {},
   "source": [
    "테스트할 새로운 데이터를 포함한 산점도"
   ]
  },
  {
   "cell_type": "code",
   "execution_count": 30,
   "id": "7084eb45",
   "metadata": {},
   "outputs": [
    {
     "data": {
      "text/plain": [
       "<matplotlib.collections.PathCollection at 0x1dde5e6ad00>"
      ]
     },
     "execution_count": 30,
     "metadata": {},
     "output_type": "execute_result"
    },
    {
     "data": {
      "text/plain": [
       "<matplotlib.collections.PathCollection at 0x1dde5e840d0>"
      ]
     },
     "execution_count": 30,
     "metadata": {},
     "output_type": "execute_result"
    },
    {
     "data": {
      "text/plain": [
       "Text(0.5, 0, 'length')"
      ]
     },
     "execution_count": 30,
     "metadata": {},
     "output_type": "execute_result"
    },
    {
     "data": {
      "text/plain": [
       "Text(0, 0.5, 'weight')"
      ]
     },
     "execution_count": 30,
     "metadata": {},
     "output_type": "execute_result"
    },
    {
     "data": {
      "image/png": "[encoded data removed]",
      "text/plain": [
       "<Figure size 432x288 with 1 Axes>"
      ]
     },
     "metadata": {
      "needs_background": "light"
     },
     "output_type": "display_data"
    }
   ],
   "source": [
    "plt.scatter(train_input[:,0], train_input[:,1])\n",
    "plt.scatter(25, 150, marker='^')\n",
    "plt.xlabel('length')\n",
    "plt.ylabel('weight')\n",
    "plt.show()\n"
   ]
  },
  {
   "cell_type": "markdown",
   "id": "fcb9639a",
   "metadata": {},
   "source": [
    "### 테스트할 데이터와 이웃하는 데이터들 "
   ]
  },
  {
   "cell_type": "code",
   "execution_count": 34,
   "id": "f23e439b",
   "metadata": {},
   "outputs": [],
   "source": [
    "dist, idx = kn.kneighbors([[25, 150]]) # kn.kneighbors = 5 기본값\n",
    "#[25, 150]와 이웃한 값을 보여줌"
   ]
  },
  {
   "cell_type": "code",
   "execution_count": 37,
   "id": "b56d30f3",
   "metadata": {},
   "outputs": [
    {
     "data": {
      "text/plain": [
       "array([[ 92.00086956, 130.48375378, 130.73859415, 138.32150953,\n",
       "        138.39320793]])"
      ]
     },
     "execution_count": 37,
     "metadata": {},
     "output_type": "execute_result"
    },
    {
     "data": {
      "text/plain": [
       "array([[21, 33, 19, 30,  1]], dtype=int64)"
      ]
     },
     "execution_count": 37,
     "metadata": {},
     "output_type": "execute_result"
    }
   ],
   "source": [
    "dist #거리값\n",
    "idx #index"
   ]
  },
  {
   "cell_type": "code",
   "execution_count": 38,
   "id": "f6c89ac0",
   "metadata": {},
   "outputs": [
    {
     "data": {
      "text/plain": [
       "array([[[ 25.4, 242. ],\n",
       "        [ 15. ,  19.9],\n",
       "        [ 14.3,  19.7],\n",
       "        [ 13. ,  12.2],\n",
       "        [ 12.2,  12.2]]])"
      ]
     },
     "execution_count": 38,
     "metadata": {},
     "output_type": "execute_result"
    }
   ],
   "source": [
    "train_input[idx]"
   ]
  },
  {
   "cell_type": "code",
   "execution_count": 39,
   "id": "1e972527",
   "metadata": {},
   "outputs": [
    {
     "data": {
      "text/plain": [
       "<matplotlib.collections.PathCollection at 0x1dde5f67640>"
      ]
     },
     "execution_count": 39,
     "metadata": {},
     "output_type": "execute_result"
    },
    {
     "data": {
      "text/plain": [
       "<matplotlib.collections.PathCollection at 0x1dde5f59670>"
      ]
     },
     "execution_count": 39,
     "metadata": {},
     "output_type": "execute_result"
    },
    {
     "data": {
      "text/plain": [
       "<matplotlib.collections.PathCollection at 0x1dde5f47100>"
      ]
     },
     "execution_count": 39,
     "metadata": {},
     "output_type": "execute_result"
    },
    {
     "data": {
      "text/plain": [
       "Text(0.5, 0, 'length')"
      ]
     },
     "execution_count": 39,
     "metadata": {},
     "output_type": "execute_result"
    },
    {
     "data": {
      "text/plain": [
       "Text(0, 0.5, 'weight')"
      ]
     },
     "execution_count": 39,
     "metadata": {},
     "output_type": "execute_result"
    },
    {
     "data": {
      "image/png": "[encoded data removed]",
      "text/plain": [
       "<Figure size 432x288 with 1 Axes>"
      ]
     },
     "metadata": {
      "needs_background": "light"
     },
     "output_type": "display_data"
    }
   ],
   "source": [
    "plt.scatter(train_input[:,0], train_input[:,1])\n",
    "plt.scatter(25, 150, marker='^')\n",
    "plt.scatter(train_input[idx, 0], train_input[idx,1], marker='D')\n",
    "plt.xlabel('length')\n",
    "plt.ylabel('weight')\n",
    "plt.show()"
   ]
  },
  {
   "cell_type": "code",
   "execution_count": 40,
   "id": "95cf5e6a",
   "metadata": {},
   "outputs": [
    {
     "name": "stdout",
     "output_type": "stream",
     "text": [
      "[[1. 0. 0. 0. 0.]]\n"
     ]
    }
   ],
   "source": [
    "print(train_target[idx])"
   ]
  },
  {
   "cell_type": "markdown",
   "id": "befa83b2",
   "metadata": {},
   "source": [
    "## 기준을 맞춰라"
   ]
  },
  {
   "cell_type": "code",
   "execution_count": 42,
   "id": "c431233c",
   "metadata": {},
   "outputs": [
    {
     "data": {
      "text/plain": [
       "<matplotlib.collections.PathCollection at 0x1dde5fd33a0>"
      ]
     },
     "execution_count": 42,
     "metadata": {},
     "output_type": "execute_result"
    },
    {
     "data": {
      "text/plain": [
       "<matplotlib.collections.PathCollection at 0x1dde5fd3790>"
      ]
     },
     "execution_count": 42,
     "metadata": {},
     "output_type": "execute_result"
    },
    {
     "data": {
      "text/plain": [
       "<matplotlib.collections.PathCollection at 0x1dde5fd3be0>"
      ]
     },
     "execution_count": 42,
     "metadata": {},
     "output_type": "execute_result"
    },
    {
     "data": {
      "text/plain": [
       "(0.0, 1000.0)"
      ]
     },
     "execution_count": 42,
     "metadata": {},
     "output_type": "execute_result"
    },
    {
     "data": {
      "text/plain": [
       "Text(0.5, 0, 'length')"
      ]
     },
     "execution_count": 42,
     "metadata": {},
     "output_type": "execute_result"
    },
    {
     "data": {
      "text/plain": [
       "Text(0, 0.5, 'weight')"
      ]
     },
     "execution_count": 42,
     "metadata": {},
     "output_type": "execute_result"
    },
    {
     "data": {
      "image/png": "[encoded data removed]",
      "text/plain": [
       "<Figure size 432x288 with 1 Axes>"
      ]
     },
     "metadata": {
      "needs_background": "light"
     },
     "output_type": "display_data"
    }
   ],
   "source": [
    "plt.scatter(train_input[:,0], train_input[:,1])\n",
    "plt.scatter(25, 150, marker='^')\n",
    "plt.scatter(train_input[idx, 0], train_input[idx,1], marker='D')\n",
    "plt.xlim((0,1000))\n",
    "plt.xlabel('length')\n",
    "plt.ylabel('weight')\n",
    "plt.show()\n"
   ]
  },
  {
   "cell_type": "markdown",
   "id": "08d4ef6c",
   "metadata": {},
   "source": [
    "#### 최근접 이웃 알고리즘은 거리를 기반으로 가까운 이웃을 결정\n",
    "    - 거리 계산시 자료값이 큰변수에 더 큰 영향을 받게 됨"
   ]
  },
  {
   "cell_type": "markdown",
   "id": "85d8615e",
   "metadata": {},
   "source": [
    "### 두변수의 스케일을 동일하게 하는 법\n",
    "- 표준점수 (Z-Score)\n",
    "\n",
    "- 표준 점수는 통계학적으로 정규분포를 만들고 개개의 경우가 표준편차상에 어떤 위치를 차지하는지를 보여주는 차원없는 수치이다. \n",
    "- 표준값, Z값, Z 점수이라고도 한다. \n",
    "- 학력고사 등의 평가에서 개개인의 성적이 전체에서 어떤 위치를 차지하는지를 보여주기 위해 쓰이기도 한다.\n",
    "- 원점수 - 평균 / 표준편차"
   ]
  },
  {
   "attachments": {
    "image.png": {
     "image/png": "[encoded data removed]"
    }
   },
   "cell_type": "markdown",
   "id": "64d18034",
   "metadata": {},
   "source": [
    "![image.png](attachment:image.png)"
   ]
  },
  {
   "cell_type": "code",
   "execution_count": 44,
   "id": "27d49ff0",
   "metadata": {},
   "outputs": [
    {
     "data": {
      "text/plain": [
       "array([ 27.29722222, 454.09722222])"
      ]
     },
     "execution_count": 44,
     "metadata": {},
     "output_type": "execute_result"
    }
   ],
   "source": [
    "mean = np.mean(train_input, axis=0)\n",
    "mean"
   ]
  },
  {
   "cell_type": "code",
   "execution_count": 45,
   "id": "03f62913",
   "metadata": {},
   "outputs": [
    {
     "data": {
      "text/plain": [
       "array([  9.98244253, 323.29893931])"
      ]
     },
     "execution_count": 45,
     "metadata": {},
     "output_type": "execute_result"
    }
   ],
   "source": [
    "std = np.std(train_input, axis =0)\n",
    "std"
   ]
  },
  {
   "cell_type": "code",
   "execution_count": 46,
   "id": "2bf9bc83",
   "metadata": {},
   "outputs": [],
   "source": [
    "train_scaled = (train_input - mean)/std"
   ]
  },
  {
   "cell_type": "code",
   "execution_count": 47,
   "id": "3f7610d7",
   "metadata": {},
   "outputs": [
    {
     "name": "stdout",
     "output_type": "stream",
     "text": [
      "[[ 0.24070039  0.14198246]\n",
      " [-1.51237757 -1.36683783]\n",
      " [ 0.5712808   0.76060496]\n",
      " [-1.60253587 -1.37766373]\n",
      " [ 1.22242404  1.45655528]\n",
      " [ 0.17057727 -0.07453542]\n",
      " [ 0.87180845  0.80390854]\n",
      " [ 0.87180845  1.22457184]\n",
      " [ 0.37092904  0.06465464]\n",
      " [ 0.77163257  0.82246721]]\n"
     ]
    }
   ],
   "source": [
    "print(train_scaled[:10])"
   ]
  },
  {
   "cell_type": "code",
   "execution_count": 49,
   "id": "200dfa55",
   "metadata": {},
   "outputs": [
    {
     "data": {
      "text/plain": [
       "<matplotlib.collections.PathCollection at 0x1dde7150400>"
      ]
     },
     "execution_count": 49,
     "metadata": {},
     "output_type": "execute_result"
    },
    {
     "data": {
      "text/plain": [
       "Text(0.5, 0, 'length')"
      ]
     },
     "execution_count": 49,
     "metadata": {},
     "output_type": "execute_result"
    },
    {
     "data": {
      "text/plain": [
       "Text(0, 0.5, 'weight')"
      ]
     },
     "execution_count": 49,
     "metadata": {},
     "output_type": "execute_result"
    },
    {
     "data": {
      "image/png": "[encoded data removed]",
      "text/plain": [
       "<Figure size 432x288 with 1 Axes>"
      ]
     },
     "metadata": {
      "needs_background": "light"
     },
     "output_type": "display_data"
    }
   ],
   "source": [
    "plt.scatter(train_scaled[:,0], train_scaled[:,1])\n",
    "plt.xlabel('length')\n",
    "plt.ylabel('weight')\n",
    "plt.show()\n",
    "\n",
    "\n",
    "# x축과 y축의 범위가 같아짐"
   ]
  },
  {
   "cell_type": "markdown",
   "id": "4b59d04e",
   "metadata": {},
   "source": [
    "### 전처리 데이터로 모델 훈련하기"
   ]
  },
  {
   "cell_type": "code",
   "execution_count": 51,
   "id": "1a3339f9",
   "metadata": {},
   "outputs": [
    {
     "data": {
      "text/plain": [
       "KNeighborsClassifier()"
      ]
     },
     "execution_count": 51,
     "metadata": {},
     "output_type": "execute_result"
    }
   ],
   "source": [
    "kn.fit(train_scaled, train_target)"
   ]
  },
  {
   "cell_type": "code",
   "execution_count": 52,
   "id": "65f4691b",
   "metadata": {},
   "outputs": [
    {
     "data": {
      "text/plain": [
       "array([[ 0.24070039,  0.14198246],\n",
       "       [-1.51237757, -1.36683783],\n",
       "       [ 0.5712808 ,  0.76060496],\n",
       "       [-1.60253587, -1.37766373],\n",
       "       [ 1.22242404,  1.45655528],\n",
       "       [ 0.17057727, -0.07453542],\n",
       "       [ 0.87180845,  0.80390854],\n",
       "       [ 0.87180845,  1.22457184],\n",
       "       [ 0.37092904,  0.06465464],\n",
       "       [ 0.77163257,  0.82246721],\n",
       "       [ 0.97198434,  1.68853872],\n",
       "       [-1.61255346, -1.3742613 ],\n",
       "       [ 0.72154463,  0.51315596],\n",
       "       [-1.53241275, -1.3742613 ],\n",
       "       [ 0.17057727, -0.28177396],\n",
       "       [ 0.5712808 ,  0.76060496],\n",
       "       [ 0.34087627,  0.14198246],\n",
       "       [ 1.12224816,  1.54934866],\n",
       "       [ 0.62136874,  0.60594934],\n",
       "       [-1.30200822, -1.34363949],\n",
       "       [ 0.42101698,  0.14198246],\n",
       "       [-0.19005591, -0.65604058],\n",
       "       [-1.75279969, -1.38384995],\n",
       "       [ 0.47110492,  0.45129371],\n",
       "       [-1.68267658, -1.38137546],\n",
       "       [ 0.62136874,  0.48222484],\n",
       "       [-1.67265899, -1.38292202],\n",
       "       [ 0.77163257,  0.76060496],\n",
       "       [ 0.47110492,  0.45129371],\n",
       "       [ 0.77163257,  0.83793278],\n",
       "       [-1.43223687, -1.36683783],\n",
       "       [ 0.27075315, -0.01267317],\n",
       "       [ 0.47110492, -0.35291555],\n",
       "       [-1.2318851 , -1.34302087],\n",
       "       [ 0.27075315, -0.19825992],\n",
       "       [ 1.37268787,  1.61121091]])"
      ]
     },
     "execution_count": 52,
     "metadata": {},
     "output_type": "execute_result"
    }
   ],
   "source": [
    "train_scaled"
   ]
  },
  {
   "cell_type": "code",
   "execution_count": 53,
   "id": "18948abf",
   "metadata": {},
   "outputs": [
    {
     "data": {
      "text/plain": [
       "array([[ 11. ,   9.7],\n",
       "       [ 11.8,   9.9],\n",
       "       [ 29.7, 450. ],\n",
       "       [ 11.8,  10. ],\n",
       "       [ 26.5, 340. ],\n",
       "       [ 12.4,  13.4],\n",
       "       [ 34. , 685. ],\n",
       "       [ 34. , 575. ],\n",
       "       [ 38.5, 920. ],\n",
       "       [ 35. , 680. ],\n",
       "       [ 26.3, 290. ],\n",
       "       [ 31. , 500. ],\n",
       "       [ 41. , 950. ]])"
      ]
     },
     "execution_count": 53,
     "metadata": {},
     "output_type": "execute_result"
    }
   ],
   "source": [
    "test_input"
   ]
  },
  {
   "cell_type": "code",
   "execution_count": 55,
   "id": "04e5ea2d",
   "metadata": {},
   "outputs": [
    {
     "data": {
      "text/plain": [
       "array([-0.33030215, -0.94060693])"
      ]
     },
     "execution_count": 55,
     "metadata": {},
     "output_type": "execute_result"
    }
   ],
   "source": [
    "new = ([24,150]-mean)/std\n",
    "new"
   ]
  },
  {
   "cell_type": "code",
   "execution_count": 56,
   "id": "dde40b0e",
   "metadata": {},
   "outputs": [
    {
     "data": {
      "text/plain": [
       "<matplotlib.collections.PathCollection at 0x1dde6f946d0>"
      ]
     },
     "execution_count": 56,
     "metadata": {},
     "output_type": "execute_result"
    },
    {
     "data": {
      "text/plain": [
       "<matplotlib.collections.PathCollection at 0x1dde6f94340>"
      ]
     },
     "execution_count": 56,
     "metadata": {},
     "output_type": "execute_result"
    },
    {
     "data": {
      "text/plain": [
       "Text(0.5, 0, 'length')"
      ]
     },
     "execution_count": 56,
     "metadata": {},
     "output_type": "execute_result"
    },
    {
     "data": {
      "text/plain": [
       "Text(0, 0.5, 'weight')"
      ]
     },
     "execution_count": 56,
     "metadata": {},
     "output_type": "execute_result"
    },
    {
     "data": {
      "image/png": "[encoded data removed]",
      "text/plain": [
       "<Figure size 432x288 with 1 Axes>"
      ]
     },
     "metadata": {
      "needs_background": "light"
     },
     "output_type": "display_data"
    }
   ],
   "source": [
    "plt.scatter(train_scaled[:,0], train_scaled[:,1])\n",
    "plt.scatter(new[0], new[1], marker='^')\n",
    "plt.xlabel('length')\n",
    "plt.ylabel('weight')\n",
    "plt.show()\n"
   ]
  },
  {
   "cell_type": "code",
   "execution_count": 57,
   "id": "437a6230",
   "metadata": {},
   "outputs": [
    {
     "data": {
      "text/plain": [
       "array([1.])"
      ]
     },
     "execution_count": 57,
     "metadata": {},
     "output_type": "execute_result"
    }
   ],
   "source": [
    "kn.predict([new]) # 0이 아니라 1인 것을 확인 스켈링 작업이 필요"
   ]
  },
  {
   "cell_type": "code",
   "execution_count": 58,
   "id": "e8701c9e",
   "metadata": {},
   "outputs": [
    {
     "name": "stdout",
     "output_type": "stream",
     "text": [
      "[[0.31724914 0.82761167 0.95516834 0.98731393 0.99379799]] [[21 14 34 33 32]]\n"
     ]
    }
   ],
   "source": [
    "dist,idx = kn.kneighbors([new])\n",
    "print(dist, idx)"
   ]
  },
  {
   "cell_type": "code",
   "execution_count": 60,
   "id": "e271eea7",
   "metadata": {},
   "outputs": [
    {
     "data": {
      "text/plain": [
       "<matplotlib.collections.PathCollection at 0x1dde7ce62e0>"
      ]
     },
     "execution_count": 60,
     "metadata": {},
     "output_type": "execute_result"
    },
    {
     "data": {
      "text/plain": [
       "<matplotlib.collections.PathCollection at 0x1dde7ce67c0>"
      ]
     },
     "execution_count": 60,
     "metadata": {},
     "output_type": "execute_result"
    },
    {
     "data": {
      "text/plain": [
       "<matplotlib.collections.PathCollection at 0x1dde7698610>"
      ]
     },
     "execution_count": 60,
     "metadata": {},
     "output_type": "execute_result"
    },
    {
     "data": {
      "text/plain": [
       "Text(0.5, 0, 'length')"
      ]
     },
     "execution_count": 60,
     "metadata": {},
     "output_type": "execute_result"
    },
    {
     "data": {
      "text/plain": [
       "Text(0, 0.5, 'weight')"
      ]
     },
     "execution_count": 60,
     "metadata": {},
     "output_type": "execute_result"
    },
    {
     "data": {
      "image/png": "[encoded data removed]",
      "text/plain": [
       "<Figure size 432x288 with 1 Axes>"
      ]
     },
     "metadata": {
      "needs_background": "light"
     },
     "output_type": "display_data"
    }
   ],
   "source": [
    "plt.scatter(train_scaled[:,0], train_scaled[:,1])\n",
    "plt.scatter(new[0], new[1], marker='^')\n",
    "plt.scatter(train_scaled[idx,0], train_scaled[idx,1], marker='D')\n",
    "plt.xlabel('length')\n",
    "plt.ylabel('weight')\n",
    "plt.show()\n",
    "\n",
    "## 도미 쪽에  4개로 변경한 것을 확인 가능"
   ]
  },
  {
   "cell_type": "code",
   "execution_count": null,
   "id": "47bcabb9",
   "metadata": {},
   "outputs": [],
   "source": []
  },
  {
   "cell_type": "code",
   "execution_count": null,
   "id": "4f5fc33e",
   "metadata": {},
   "outputs": [],
   "source": []
  },
  {
   "cell_type": "code",
   "execution_count": null,
   "id": "6b8afe29",
   "metadata": {},
   "outputs": [],
   "source": []
  },
  {
   "cell_type": "code",
   "execution_count": null,
   "id": "c4f47202",
   "metadata": {},
   "outputs": [],
   "source": []
  }
 ],
 "metadata": {
  "kernelspec": {
   "display_name": "Python 3",
   "language": "python",
   "name": "python3"
  },
  "language_info": {
   "codemirror_mode": {
    "name": "ipython",
    "version": 3
   },
   "file_extension": ".py",
   "mimetype": "text/x-python",
   "name": "python",
   "nbconvert_exporter": "python",
   "pygments_lexer": "ipython3",
   "version": "3.8.8"
  }
 },
 "nbformat": 4,
 "nbformat_minor": 5
}
