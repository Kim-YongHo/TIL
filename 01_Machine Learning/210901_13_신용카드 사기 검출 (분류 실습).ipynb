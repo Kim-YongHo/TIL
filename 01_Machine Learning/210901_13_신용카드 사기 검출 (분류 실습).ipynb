{
 "cells": [
  {
   "cell_type": "markdown",
   "id": "a2ceea5b",
   "metadata": {},
   "source": [
    "## 분류 실습 : 캐글 신용카드 사기 검출\n",
    "\n",
    "Kaggle의 신용카드 데이터 세트를 이용해 신용카드 사기 검출 분류 실습  \n",
    "데이터 다운로드 : www.kaggle.com 에서 검색  \n",
    "credit card fraud\n"
   ]
  },
  {
   "cell_type": "markdown",
   "id": "ef8a2a00",
   "metadata": {},
   "source": [
    "**신용카드 데이터 세트 특징**\n",
    "- 2013년 European Card 사용 트랜잭션을 가공해서 생성\n",
    "- 불균형(Imbalanced)되어 있는 데이터 셋 284,807건의 데이터 중 492건이 Fraud(사기)\n",
    "\n",
    "    - 레이블인 Class 속성이 매우 불균형한 분포\n",
    "        - 0 값 : 정상 트랜잭선\n",
    "        - 1 값 : 사기 트랜잭션 (0.172 %)\n"
   ]
  },
  {
   "cell_type": "markdown",
   "id": "4e430e52",
   "metadata": {},
   "source": [
    "**Tip. 일반적인 사기 검출(Fraud Detection)이나 이상 검출(Anomaly Detection) 같은 데이터 세트는 레이블 값이 극도로 불균형한 분포를 이룸**  \n",
    "- 사기와 같은 이상 현상은 전체 데이터에서 차지하는 비중이 매우 적기 때문\n"
   ]
  },
  {
   "cell_type": "markdown",
   "id": "cd8e8f65",
   "metadata": {},
   "source": [
    "## Credit Card Fraud Detection ML 모델 구축\n",
    "- 다양한 Feature Engineering 방식을 \n",
    "- Logistic Regression과 LightGBM 방식을 이용하여 \n",
    "- 각 방식에 적용 후 평가 비교\n"
   ]
  },
  {
   "cell_type": "markdown",
   "id": "46e1d6d6",
   "metadata": {},
   "source": [
    "**Feature Engineering 주요 작업**\n",
    "- 주요 Feature의 데이터 분포도 변경\n",
    "    - Log 변환\n",
    "- 이상치(Outlier) 제거\n",
    "- SMOTE 오버 샘플링\n"
   ]
  },
  {
   "cell_type": "code",
   "execution_count": 1,
   "id": "fe40a93f",
   "metadata": {},
   "outputs": [],
   "source": [
    "import pandas as pd\n",
    "import numpy as np\n",
    "import seaborn as sns\n",
    "\n",
    "#그래프 패키지 \n",
    "import matplotlib.pyplot as plt \n",
    "%matplotlib inline \n",
    "# 한글 문제 해결\n",
    "import platform\n",
    "\n",
    "from matplotlib import font_manager, rc\n",
    "plt.rcParams['axes.unicode_minus'] = False\n",
    "\n",
    "if platform.system() == 'Darwin':  # 맥OS \n",
    "    rc('font', family='AppleGothic')\n",
    "elif platform.system() == 'Windows':  # 윈도우\n",
    "    path = \"c:/Windows/Fonts/malgun.ttf\"\n",
    "    font_name = font_manager.FontProperties(fname=path).get_name()\n",
    "    rc('font', family=font_name)\n",
    "else:\n",
    "    print('Unknown system...  sorry~~~')# 한글 문제 해결\n",
    "import platform\n",
    "\n",
    "from matplotlib import font_manager, rc\n",
    "plt.rcParams['axes.unicode_minus'] = False\n",
    "\n",
    "if platform.system() == 'Darwin':  # 맥OS \n",
    "    rc('font', family='AppleGothic')\n",
    "elif platform.system() == 'Windows':  # 윈도우\n",
    "    path = \"c:/Windows/Fonts/malgun.ttf\"\n",
    "    font_name = font_manager.FontProperties(fname=path).get_name()\n",
    "    rc('font', family=font_name)\n",
    "else:\n",
    "    print('Unknown system...  sorry~~~')\n",
    "\n",
    "\n",
    "# 동시 출력\n",
    "from IPython.core.interactiveshell import InteractiveShell\n",
    "InteractiveShell.ast_node_interactivity=\"all\""
   ]
  },
  {
   "cell_type": "code",
   "execution_count": 2,
   "id": "12131804",
   "metadata": {},
   "outputs": [
    {
     "data": {
      "text/html": [
       "<div>\n",
       "<style scoped>\n",
       "    .dataframe tbody tr th:only-of-type {\n",
       "        vertical-align: middle;\n",
       "    }\n",
       "\n",
       "    .dataframe tbody tr th {\n",
       "        vertical-align: top;\n",
       "    }\n",
       "\n",
       "    .dataframe thead th {\n",
       "        text-align: right;\n",
       "    }\n",
       "</style>\n",
       "<table border=\"1\" class=\"dataframe\">\n",
       "  <thead>\n",
       "    <tr style=\"text-align: right;\">\n",
       "      <th></th>\n",
       "      <th>Time</th>\n",
       "      <th>V1</th>\n",
       "      <th>V2</th>\n",
       "      <th>V3</th>\n",
       "      <th>V4</th>\n",
       "      <th>V5</th>\n",
       "      <th>V6</th>\n",
       "      <th>V7</th>\n",
       "      <th>V8</th>\n",
       "      <th>V9</th>\n",
       "      <th>...</th>\n",
       "      <th>V21</th>\n",
       "      <th>V22</th>\n",
       "      <th>V23</th>\n",
       "      <th>V24</th>\n",
       "      <th>V25</th>\n",
       "      <th>V26</th>\n",
       "      <th>V27</th>\n",
       "      <th>V28</th>\n",
       "      <th>Amount</th>\n",
       "      <th>Class</th>\n",
       "    </tr>\n",
       "  </thead>\n",
       "  <tbody>\n",
       "    <tr>\n",
       "      <th>0</th>\n",
       "      <td>0.0</td>\n",
       "      <td>-1.359807</td>\n",
       "      <td>-0.072781</td>\n",
       "      <td>2.536347</td>\n",
       "      <td>1.378155</td>\n",
       "      <td>-0.338321</td>\n",
       "      <td>0.462388</td>\n",
       "      <td>0.239599</td>\n",
       "      <td>0.098698</td>\n",
       "      <td>0.363787</td>\n",
       "      <td>...</td>\n",
       "      <td>-0.018307</td>\n",
       "      <td>0.277838</td>\n",
       "      <td>-0.110474</td>\n",
       "      <td>0.066928</td>\n",
       "      <td>0.128539</td>\n",
       "      <td>-0.189115</td>\n",
       "      <td>0.133558</td>\n",
       "      <td>-0.021053</td>\n",
       "      <td>149.62</td>\n",
       "      <td>0</td>\n",
       "    </tr>\n",
       "    <tr>\n",
       "      <th>1</th>\n",
       "      <td>0.0</td>\n",
       "      <td>1.191857</td>\n",
       "      <td>0.266151</td>\n",
       "      <td>0.166480</td>\n",
       "      <td>0.448154</td>\n",
       "      <td>0.060018</td>\n",
       "      <td>-0.082361</td>\n",
       "      <td>-0.078803</td>\n",
       "      <td>0.085102</td>\n",
       "      <td>-0.255425</td>\n",
       "      <td>...</td>\n",
       "      <td>-0.225775</td>\n",
       "      <td>-0.638672</td>\n",
       "      <td>0.101288</td>\n",
       "      <td>-0.339846</td>\n",
       "      <td>0.167170</td>\n",
       "      <td>0.125895</td>\n",
       "      <td>-0.008983</td>\n",
       "      <td>0.014724</td>\n",
       "      <td>2.69</td>\n",
       "      <td>0</td>\n",
       "    </tr>\n",
       "    <tr>\n",
       "      <th>2</th>\n",
       "      <td>1.0</td>\n",
       "      <td>-1.358354</td>\n",
       "      <td>-1.340163</td>\n",
       "      <td>1.773209</td>\n",
       "      <td>0.379780</td>\n",
       "      <td>-0.503198</td>\n",
       "      <td>1.800499</td>\n",
       "      <td>0.791461</td>\n",
       "      <td>0.247676</td>\n",
       "      <td>-1.514654</td>\n",
       "      <td>...</td>\n",
       "      <td>0.247998</td>\n",
       "      <td>0.771679</td>\n",
       "      <td>0.909412</td>\n",
       "      <td>-0.689281</td>\n",
       "      <td>-0.327642</td>\n",
       "      <td>-0.139097</td>\n",
       "      <td>-0.055353</td>\n",
       "      <td>-0.059752</td>\n",
       "      <td>378.66</td>\n",
       "      <td>0</td>\n",
       "    </tr>\n",
       "  </tbody>\n",
       "</table>\n",
       "<p>3 rows × 31 columns</p>\n",
       "</div>"
      ],
      "text/plain": [
       "   Time        V1        V2        V3        V4        V5        V6        V7  \\\n",
       "0   0.0 -1.359807 -0.072781  2.536347  1.378155 -0.338321  0.462388  0.239599   \n",
       "1   0.0  1.191857  0.266151  0.166480  0.448154  0.060018 -0.082361 -0.078803   \n",
       "2   1.0 -1.358354 -1.340163  1.773209  0.379780 -0.503198  1.800499  0.791461   \n",
       "\n",
       "         V8        V9  ...       V21       V22       V23       V24       V25  \\\n",
       "0  0.098698  0.363787  ... -0.018307  0.277838 -0.110474  0.066928  0.128539   \n",
       "1  0.085102 -0.255425  ... -0.225775 -0.638672  0.101288 -0.339846  0.167170   \n",
       "2  0.247676 -1.514654  ...  0.247998  0.771679  0.909412 -0.689281 -0.327642   \n",
       "\n",
       "        V26       V27       V28  Amount  Class  \n",
       "0 -0.189115  0.133558 -0.021053  149.62      0  \n",
       "1  0.125895 -0.008983  0.014724    2.69      0  \n",
       "2 -0.139097 -0.055353 -0.059752  378.66      0  \n",
       "\n",
       "[3 rows x 31 columns]"
      ]
     },
     "execution_count": 2,
     "metadata": {},
     "output_type": "execute_result"
    }
   ],
   "source": [
    "import pandas as pd\n",
    "import numpy as np \n",
    "import matplotlib.pyplot as plt\n",
    "import warnings\n",
    "warnings.filterwarnings(\"ignore\")\n",
    "%matplotlib inline\n",
    "\n",
    "card_df = pd.read_csv('./data/creditcard.csv')\n",
    "card_df.head(3)\n"
   ]
  },
  {
   "cell_type": "markdown",
   "id": "74c6c582",
   "metadata": {},
   "source": [
    "**creditcard 피처 정보**\n",
    "- Time : 데이터 생성 관련한 속성으로 분석에 큰 의미가 없음 => 삭제\n",
    "- Amount : 신용카드 트랜잭션 금액\n",
    "- Class : 레이블, 0-정상, 1-사기\n",
    "\n",
    "- v1~v28 속성 : 피처 이름이 전혀 들어가 있지 않음\n",
    "    * kaggle에서 칼럼 확인해보면\n",
    "        - 민감한 정보를 보호하기 위해서 PCA로 압축한 속성\n",
    "        \n",
    "- Amount : 카드 사용액\n",
    "- Class : 0은 정상 사용, 1은 부정 카드 사용\n"
   ]
  },
  {
   "cell_type": "code",
   "execution_count": 3,
   "id": "50a61c10",
   "metadata": {},
   "outputs": [
    {
     "data": {
      "text/plain": [
       "(284807, 31)"
      ]
     },
     "execution_count": 3,
     "metadata": {},
     "output_type": "execute_result"
    }
   ],
   "source": [
    "card_df.shape"
   ]
  },
  {
   "cell_type": "code",
   "execution_count": 4,
   "id": "c7d7e16c",
   "metadata": {},
   "outputs": [
    {
     "name": "stdout",
     "output_type": "stream",
     "text": [
      "<class 'pandas.core.frame.DataFrame'>\n",
      "RangeIndex: 284807 entries, 0 to 284806\n",
      "Data columns (total 31 columns):\n",
      " #   Column  Non-Null Count   Dtype  \n",
      "---  ------  --------------   -----  \n",
      " 0   Time    284807 non-null  float64\n",
      " 1   V1      284807 non-null  float64\n",
      " 2   V2      284807 non-null  float64\n",
      " 3   V3      284807 non-null  float64\n",
      " 4   V4      284807 non-null  float64\n",
      " 5   V5      284807 non-null  float64\n",
      " 6   V6      284807 non-null  float64\n",
      " 7   V7      284807 non-null  float64\n",
      " 8   V8      284807 non-null  float64\n",
      " 9   V9      284807 non-null  float64\n",
      " 10  V10     284807 non-null  float64\n",
      " 11  V11     284807 non-null  float64\n",
      " 12  V12     284807 non-null  float64\n",
      " 13  V13     284807 non-null  float64\n",
      " 14  V14     284807 non-null  float64\n",
      " 15  V15     284807 non-null  float64\n",
      " 16  V16     284807 non-null  float64\n",
      " 17  V17     284807 non-null  float64\n",
      " 18  V18     284807 non-null  float64\n",
      " 19  V19     284807 non-null  float64\n",
      " 20  V20     284807 non-null  float64\n",
      " 21  V21     284807 non-null  float64\n",
      " 22  V22     284807 non-null  float64\n",
      " 23  V23     284807 non-null  float64\n",
      " 24  V24     284807 non-null  float64\n",
      " 25  V25     284807 non-null  float64\n",
      " 26  V26     284807 non-null  float64\n",
      " 27  V27     284807 non-null  float64\n",
      " 28  V28     284807 non-null  float64\n",
      " 29  Amount  284807 non-null  float64\n",
      " 30  Class   284807 non-null  int64  \n",
      "dtypes: float64(30), int64(1)\n",
      "memory usage: 67.4 MB\n"
     ]
    }
   ],
   "source": [
    "card_df.info()"
   ]
  },
  {
   "cell_type": "markdown",
   "id": "03c83d7b",
   "metadata": {},
   "source": [
    "## 전처리 함수 :\n",
    "1. 원본 유지하고 복사본을 반환\n",
    "    - Time 컬럼은 삭제하고 반환"
   ]
  },
  {
   "cell_type": "markdown",
   "id": "09382737",
   "metadata": {},
   "source": [
    "### 전처리 함수 ① : get_preprocessed_df() 작성"
   ]
  },
  {
   "cell_type": "code",
   "execution_count": 5,
   "id": "71a665a3",
   "metadata": {},
   "outputs": [],
   "source": [
    "from sklearn.model_selection import train_test_split"
   ]
  },
  {
   "cell_type": "code",
   "execution_count": 6,
   "id": "649f2a74",
   "metadata": {},
   "outputs": [],
   "source": [
    "def get_preprocessed_df(df=None):\n",
    "    \n",
    "    df_copy = df.copy() # 원본 유지\n",
    "    df_copy.drop('Time', axis=1, inplace=True)\n",
    "    \n",
    "    return df_copy"
   ]
  },
  {
   "cell_type": "code",
   "execution_count": 7,
   "id": "9fb4a85f",
   "metadata": {},
   "outputs": [],
   "source": [
    "# 사전 데이터 가공 후 학습과 테스트 데이터 세트를 반환하는 함수.\n",
    "def get_train_test_dataset(df=None):\n",
    "    # 인자로 입력된 DataFrame의 사전 데이터 가공이 완료된 복사 DataFrame 반환\n",
    "    df_copy = get_preprocessed_df(df)\n",
    "    \n",
    "    # DataFrame의 맨 마지막 컬럼이 레이블, 나머지는 피처들\n",
    "    X_features = df_copy.iloc[:, :-1] # 피처 : 마지막 칼럼 전까지\n",
    "    y_target = df_copy.iloc[:, -1] # 레이블 : 마지막 칼럼\n",
    "    \n",
    "    # train_test_split( )으로 학습과 테스트 데이터 분할. stratify=y_target으로 Stratified 기반 분할\n",
    "    # stratify: 타겟 값의 분포도에 맞춰, 학습과 테스트 맞춰서 분할 (레이)\n",
    "    X_train, X_test, y_train, y_test = \\\n",
    "    train_test_split(X_features, y_target, test_size=0.3, random_state=0, stratify=y_target)\n",
    "    \n",
    "    # 학습과 테스트 데이터 세트 반환\n",
    "    return X_train, X_test, y_train, y_test\n"
   ]
  },
  {
   "cell_type": "markdown",
   "id": "4525acd1",
   "metadata": {},
   "source": [
    "#### 데이터 세트 구성"
   ]
  },
  {
   "cell_type": "code",
   "execution_count": 9,
   "id": "e3c23e71",
   "metadata": {},
   "outputs": [],
   "source": [
    "X_train, X_test, y_train, y_test = get_train_test_dataset(card_df)"
   ]
  },
  {
   "cell_type": "code",
   "execution_count": 10,
   "id": "43519896",
   "metadata": {},
   "outputs": [
    {
     "name": "stdout",
     "output_type": "stream",
     "text": [
      "학습 데이터 레이블 값 비율\n",
      "0    99.827451\n",
      "1     0.172549\n",
      "Name: Class, dtype: float64\n",
      "테스트 데이터 레이블 값 비율\n",
      "0    99.826785\n",
      "1     0.173215\n",
      "Name: Class, dtype: float64\n"
     ]
    }
   ],
   "source": [
    "## 학습 데이터와 테스트 데이터 레이블 분포 확인 \n",
    "print('학습 데이터 레이블 값 비율')\n",
    "print(y_train.value_counts()/y_train.shape[0] * 100)\n",
    "print('테스트 데이터 레이블 값 비율')\n",
    "print(y_test.value_counts()/y_test.shape[0] * 100)\n"
   ]
  },
  {
   "cell_type": "markdown",
   "id": "d4e685ec",
   "metadata": {},
   "source": [
    "#### 예측 평가 수행 함수 (앞에서 생성)"
   ]
  },
  {
   "cell_type": "code",
   "execution_count": 12,
   "id": "f2a26c10",
   "metadata": {},
   "outputs": [],
   "source": [
    "from sklearn.metrics import confusion_matrix, accuracy_score, precision_score, recall_score, f1_score\n",
    "from sklearn.metrics import roc_auc_score\n",
    "\n",
    "# 수정된 get_clf_eval() 함수 \n",
    "def get_clf_eval(y_test, pred=None, pred_proba=None):\n",
    "    confusion = confusion_matrix(y_test, pred)\n",
    "    accuracy = accuracy_score(y_test , pred)\n",
    "    precision = precision_score(y_test , pred)\n",
    "    recall = recall_score(y_test , pred)\n",
    "    f1 = f1_score(y_test,pred)\n",
    "    # ROC-AUC 추가 \n",
    "    roc_auc = roc_auc_score(y_test, pred_proba)\n",
    "    print('오차 행렬')\n",
    "    print(confusion)\n",
    "    # ROC-AUC print 추가\n",
    "    print('정확도: {0:.4f}, 정밀도: {1:.4f}, 재현율: {2:.4f},\\\n",
    "    F1: {3:.4f}, AUC:{4:.4f}'.format(accuracy, precision, recall, f1, roc_auc))"
   ]
  },
  {
   "cell_type": "markdown",
   "id": "b8e9e7f7",
   "metadata": {},
   "source": [
    "#### LogisticRegression 알고리즘 학습/예측/평가"
   ]
  },
  {
   "cell_type": "code",
   "execution_count": 13,
   "id": "9cac66e6",
   "metadata": {},
   "outputs": [],
   "source": [
    "from sklearn.linear_model import LogisticRegression"
   ]
  },
  {
   "cell_type": "code",
   "execution_count": 14,
   "id": "282eae72",
   "metadata": {},
   "outputs": [
    {
     "data": {
      "text/plain": [
       "LogisticRegression()"
      ]
     },
     "execution_count": 14,
     "metadata": {},
     "output_type": "execute_result"
    },
    {
     "name": "stdout",
     "output_type": "stream",
     "text": [
      "오차 행렬\n",
      "[[85281    14]\n",
      " [   61    87]]\n",
      "정확도: 0.9991, 정밀도: 0.8614, 재현율: 0.5878,    F1: 0.6988, AUC:0.9594\n"
     ]
    }
   ],
   "source": [
    "lr_clf = LogisticRegression()\n",
    "lr_clf.fit(X_train, y_train)\n",
    "\n",
    "lr_pred = lr_clf.predict(X_test)\n",
    "lr_pred_proba = lr_clf.predict_proba(X_test)[:,1]\n",
    "get_clf_eval(y_test,lr_pred,lr_pred_proba)"
   ]
  },
  {
   "cell_type": "markdown",
   "id": "1ba8c53c",
   "metadata": {},
   "source": [
    "#### 결과\n",
    "- 재현율이 낮게 나왔음\n",
    "    - imbalance한 데이터다 보니까 재현율 부분을 중요하게 생각하면 될 것 같음\n",
    "    - 재현율이 낮아서 예측 모델로서 탐탁치 않음\n"
   ]
  },
  {
   "cell_type": "markdown",
   "id": "bd4bf48d",
   "metadata": {},
   "source": [
    "**앞으로 피처 엔지니어링을 수행할 때마다 모델을 학습/예측/평가하므로 이를 위한 함수 생성**    \n",
    "\n",
    "\n",
    "**`get_model_train_eval(model, ftr_train=None, ftr_test=None, tgt_train=None, tgt_test=None)`**\n"
   ]
  },
  {
   "cell_type": "code",
   "execution_count": 15,
   "id": "bb8388ef",
   "metadata": {},
   "outputs": [],
   "source": [
    "def get_model_train_eval(model, ftr_train=None, ftr_test=None, tgt_train=None, tgt_test=None):\n",
    "    model.fit(ftr_train, tgt_train)\n",
    "    pred = model.predict(ftr_test)\n",
    "    pred_proba = model.predict_proba(ftr_test)[:,1]\n",
    "    get_clf_eval(tgt_test, pred, pred_proba) ## 평가진행 함수 호출"
   ]
  },
  {
   "cell_type": "markdown",
   "id": "c2ba0e8a",
   "metadata": {},
   "source": [
    "**LightGBM 학습/예측/평가.**\n",
    "\n",
    "- (boost_from_average가 True일 경우 레이블 값이 극도로 불균형 분포를 이루는 경우 재현률 및 ROC-AUC 성능이 매우 저하됨.)  \n",
    "   - LightGBM 2.1.0 이상 버전에서 이와 같은 현상 발생 \n",
    "        - 디펄트가 True로 바뀜 (이전에는 False 였음)\n",
    "   - True일 경우 전반적으로는 좋지만 \n",
    "        - 레이블 값이 극도로 불균형 분포를 이루는 경우 재현률 및 ROC-AUC 성능이 매우 저하됨\n"
   ]
  },
  {
   "cell_type": "code",
   "execution_count": 16,
   "id": "468d980a",
   "metadata": {},
   "outputs": [
    {
     "name": "stdout",
     "output_type": "stream",
     "text": [
      "오차 행렬\n",
      "[[85290     5]\n",
      " [   36   112]]\n",
      "정확도: 0.9995, 정밀도: 0.9573, 재현율: 0.7568,    F1: 0.8453, AUC:0.9790\n"
     ]
    }
   ],
   "source": [
    "from lightgbm import LGBMClassifier\n",
    "\n",
    "lgbm_clf = LGBMClassifier(n_estimators=1000, num_leaves=64, n_jobs=-1, boost_from_average=False)\n",
    "\n",
    "get_model_train_eval(lgbm_clf, ftr_train=X_train, ftr_test=X_test, tgt_train=y_train, tgt_test=y_test)\n"
   ]
  },
  {
   "cell_type": "markdown",
   "id": "2459a376",
   "metadata": {},
   "source": [
    "### 결과\n",
    "1. LogisticRegression 보다 재현율이 많이 향상됨\n",
    "    - 재현율을 더 향상시킬 수있는 요소를 확인"
   ]
  },
  {
   "cell_type": "markdown",
   "id": "bffe7dde",
   "metadata": {},
   "source": [
    "### 중요 데이터 분포도 변환후 모델 학습/예측/평가"
   ]
  },
  {
   "cell_type": "markdown",
   "id": "c1b9e39c",
   "metadata": {},
   "source": [
    "**중요 feature의 분포도 확인**\n",
    "\n",
    "- **가장 중요한 속성**은 무엇일까?\n",
    "    * 여러 가지 있을 수 있는데 가장 중요한 것 중 하나는 **Amount**  \n",
    "        - Amount 아무래도 금액이니까 카드 금액에 따라서 실제 타겟 값에서 사기냐 정상이냐 판단하는데 가장 중요한 피처임\n"
   ]
  },
  {
   "cell_type": "code",
   "execution_count": 17,
   "id": "bbe5efa7",
   "metadata": {},
   "outputs": [
    {
     "data": {
      "text/plain": [
       "<Figure size 576x288 with 0 Axes>"
      ]
     },
     "execution_count": 17,
     "metadata": {},
     "output_type": "execute_result"
    },
    {
     "data": {
      "text/plain": [
       "([<matplotlib.axis.XTick at 0x14d2268e850>,\n",
       "  <matplotlib.axis.XTick at 0x14d2268e820>,\n",
       "  <matplotlib.axis.XTick at 0x14d226843a0>,\n",
       "  <matplotlib.axis.XTick at 0x14d226c60d0>,\n",
       "  <matplotlib.axis.XTick at 0x14d226c65e0>,\n",
       "  <matplotlib.axis.XTick at 0x14d226c6af0>,\n",
       "  <matplotlib.axis.XTick at 0x14d226cd040>,\n",
       "  <matplotlib.axis.XTick at 0x14d226cd550>,\n",
       "  <matplotlib.axis.XTick at 0x14d226cda60>,\n",
       "  <matplotlib.axis.XTick at 0x14d226cdf70>,\n",
       "  <matplotlib.axis.XTick at 0x14d226cd5b0>,\n",
       "  <matplotlib.axis.XTick at 0x14d226c6640>,\n",
       "  <matplotlib.axis.XTick at 0x14d226d3310>,\n",
       "  <matplotlib.axis.XTick at 0x14d226d3820>,\n",
       "  <matplotlib.axis.XTick at 0x14d226d3d30>,\n",
       "  <matplotlib.axis.XTick at 0x14d226da2b0>,\n",
       "  <matplotlib.axis.XTick at 0x14d226da7c0>,\n",
       "  <matplotlib.axis.XTick at 0x14d226dacd0>,\n",
       "  <matplotlib.axis.XTick at 0x14d226df220>,\n",
       "  <matplotlib.axis.XTick at 0x14d226da850>,\n",
       "  <matplotlib.axis.XTick at 0x14d226d38b0>,\n",
       "  <matplotlib.axis.XTick at 0x14d226cd250>,\n",
       "  <matplotlib.axis.XTick at 0x14d226df8e0>,\n",
       "  <matplotlib.axis.XTick at 0x14d226dfdf0>,\n",
       "  <matplotlib.axis.XTick at 0x14d226e7340>,\n",
       "  <matplotlib.axis.XTick at 0x14d226e7850>,\n",
       "  <matplotlib.axis.XTick at 0x14d226e7d60>,\n",
       "  <matplotlib.axis.XTick at 0x14d226ec2b0>,\n",
       "  <matplotlib.axis.XTick at 0x14d226e7a90>,\n",
       "  <matplotlib.axis.XTick at 0x14d226dfaf0>],\n",
       " [Text(0, 0, ''),\n",
       "  Text(0, 0, ''),\n",
       "  Text(0, 0, ''),\n",
       "  Text(0, 0, ''),\n",
       "  Text(0, 0, ''),\n",
       "  Text(0, 0, ''),\n",
       "  Text(0, 0, ''),\n",
       "  Text(0, 0, ''),\n",
       "  Text(0, 0, ''),\n",
       "  Text(0, 0, ''),\n",
       "  Text(0, 0, ''),\n",
       "  Text(0, 0, ''),\n",
       "  Text(0, 0, ''),\n",
       "  Text(0, 0, ''),\n",
       "  Text(0, 0, ''),\n",
       "  Text(0, 0, ''),\n",
       "  Text(0, 0, ''),\n",
       "  Text(0, 0, ''),\n",
       "  Text(0, 0, ''),\n",
       "  Text(0, 0, ''),\n",
       "  Text(0, 0, ''),\n",
       "  Text(0, 0, ''),\n",
       "  Text(0, 0, ''),\n",
       "  Text(0, 0, ''),\n",
       "  Text(0, 0, ''),\n",
       "  Text(0, 0, ''),\n",
       "  Text(0, 0, ''),\n",
       "  Text(0, 0, ''),\n",
       "  Text(0, 0, ''),\n",
       "  Text(0, 0, '')])"
      ]
     },
     "execution_count": 17,
     "metadata": {},
     "output_type": "execute_result"
    },
    {
     "data": {
      "text/plain": [
       "<AxesSubplot:xlabel='Amount', ylabel='Density'>"
      ]
     },
     "execution_count": 17,
     "metadata": {},
     "output_type": "execute_result"
    },
    {
     "data": {
      "image/png": "[encoded data removed]",
      "text/plain": [
       "<Figure size 576x288 with 1 Axes>"
      ]
     },
     "metadata": {
      "needs_background": "light"
     },
     "output_type": "display_data"
    }
   ],
   "source": [
    "# 중요 속성을 Amount 선정해서 분포도 확인\n",
    "\n",
    "import seaborn as sns\n",
    "\n",
    "plt.figure(figsize=(8,4))\n",
    "plt.xticks(range(0,30000,1000), rotation=60) # 0에서 3만까지 간격은 1000\n",
    "sns.distplot(card_df['Amount'])"
   ]
  },
  {
   "cell_type": "markdown",
   "id": "5fbecb2c",
   "metadata": {},
   "source": [
    "### 그래프 해석\n",
    "- 잘 보면 대부분의 금액이 500 유로 미만인데\n",
    "    - 나머지 작은 값들이 존재 25600까지 \n",
    "    - 불균형하게 가지고 있음\n",
    "    - 작은 값들이 길게 오른쪽으로 긴 꼬리를 가지고 있는 구조\n"
   ]
  },
  {
   "cell_type": "markdown",
   "id": "7915b077",
   "metadata": {},
   "source": [
    "### 전처리 함수 ② get_preprocessed_df() 수정\n",
    "- StandardScaler를 이용하여 Amount 피처 변환 추가\n"
   ]
  },
  {
   "cell_type": "code",
   "execution_count": 18,
   "id": "edbccefc",
   "metadata": {},
   "outputs": [],
   "source": [
    "from sklearn.preprocessing import StandardScaler\n",
    "\n",
    "def get_preprocessed_df(df=None) :\n",
    "    df_copy = df.copy() #원본 유지\n",
    "    #표준 스케일링 변환\n",
    "    scaler =  StandardScaler()\n",
    "    amount_n = scaler.fit_transform(df_copy['Amount'].values.reshape(-1,1))\n",
    "    \n",
    "    # 변환된 amount를 새로운 컬럼을 추가\n",
    "    df_copy.insert(0, 'Amount_Scaled', amount_n)\n",
    "    \n",
    "    \n",
    "    # 기존 Amount 컬럼 삭제\n",
    "    df_copy.drop(['Time','Amount'], axis=1, inplace=True)\n",
    "    return df_copy\n"
   ]
  },
  {
   "cell_type": "markdown",
   "id": "a4f1f98f",
   "metadata": {},
   "source": [
    "**StandardScaler 변환 후 로지스틱 회귀 및 LightGBM 학습/예측/평가**\n"
   ]
  },
  {
   "cell_type": "code",
   "execution_count": 19,
   "id": "43e4796b",
   "metadata": {},
   "outputs": [
    {
     "name": "stdout",
     "output_type": "stream",
     "text": [
      "### 로지스틱 회귀 예측 성능 ###\n",
      "오차 행렬\n",
      "[[85281    14]\n",
      " [   58    90]]\n",
      "정확도: 0.9992, 정밀도: 0.8654, 재현율: 0.6081,    F1: 0.7143, AUC:0.9702\n",
      "### LightGBM 예측 성능 ###\n",
      "오차 행렬\n",
      "[[85290     5]\n",
      " [   37   111]]\n",
      "정확도: 0.9995, 정밀도: 0.9569, 재현율: 0.7500,    F1: 0.8409, AUC:0.9779\n"
     ]
    }
   ],
   "source": [
    "# Amount를 정규분포 형태로 변환 후 로지스틱 회귀 및 LightGBM 수행. \n",
    "X_train, X_test, y_train, y_test = get_train_test_dataset(card_df)\n",
    "\n",
    "print('### 로지스틱 회귀 예측 성능 ###')\n",
    "lr_clf = LogisticRegression()\n",
    "get_model_train_eval(lr_clf, ftr_train=X_train, ftr_test=X_test, tgt_train=y_train, tgt_test=y_test)\n",
    "\n",
    "print('### LightGBM 예측 성능 ###')\n",
    "lgbm_clf = LGBMClassifier(n_estimators=1000, num_leaves=64, n_jobs=-1, boost_from_average=False)\n",
    "get_model_train_eval(lgbm_clf, ftr_train=X_train, ftr_test=X_test, tgt_train=y_train, tgt_test=y_test)\n"
   ]
  },
  {
   "cell_type": "markdown",
   "id": "2ac60b33",
   "metadata": {},
   "source": [
    "**앞의 결과와 비교해서 거의 동일**\n",
    "- 정규분포 변화하기 전과 별 차이가 없음"
   ]
  },
  {
   "cell_type": "code",
   "execution_count": null,
   "id": "4c679366",
   "metadata": {},
   "outputs": [],
   "source": []
  },
  {
   "cell_type": "code",
   "execution_count": null,
   "id": "fad1a003",
   "metadata": {},
   "outputs": [],
   "source": []
  }
 ],
 "metadata": {
  "kernelspec": {
   "display_name": "Python 3",
   "language": "python",
   "name": "python3"
  },
  "language_info": {
   "codemirror_mode": {
    "name": "ipython",
    "version": 3
   },
   "file_extension": ".py",
   "mimetype": "text/x-python",
   "name": "python",
   "nbconvert_exporter": "python",
   "pygments_lexer": "ipython3",
   "version": "3.8.8"
  }
 },
 "nbformat": 4,
 "nbformat_minor": 5
}
